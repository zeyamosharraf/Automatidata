{
 "cells": [
  {
   "cell_type": "markdown",
   "id": "16abfe17",
   "metadata": {
    "papermill": {
     "duration": 0.02468,
     "end_time": "2023-12-13T08:24:39.755779",
     "exception": false,
     "start_time": "2023-12-13T08:24:39.731099",
     "status": "completed"
    },
    "tags": []
   },
   "source": [
    "# **Automatidata**\n",
    "You are a data professional in a data consulting firm called Automatidata. Their client, the New York City Taxi & Limousine Commission (New York City TLC), was impressed with the work you have done and has requested that you build a machine learning model to predict if a customer will not leave a tip. They want to use the model in an app that will alert taxi drivers to customers who are unlikely to tip, since drivers depend on tips."
   ]
  },
  {
   "cell_type": "markdown",
   "id": "231b0fb9",
   "metadata": {
    "papermill": {
     "duration": 0.024577,
     "end_time": "2023-12-13T08:24:39.802247",
     "exception": false,
     "start_time": "2023-12-13T08:24:39.777670",
     "status": "completed"
    },
    "tags": []
   },
   "source": [
    "# **Build a machine learning model**\n",
    "In this project, I'm using tree-based modeling techniques to predict on a binary target class.\n",
    "\n",
    "**The purpose** of this model is to find ways to generate more revenue for taxi cab drivers.\n",
    "\n",
    "**The goal** of this model is to predict whether or not a customer is a generous tipper.\n",
    "\n",
    "This activity has three parts:\n",
    "\n",
    "**Part 1:** Ethical considerations\n",
    "* Consider the ethical implications of the request\n",
    "* Should the objective of the model be adjusted?\n",
    "\n",
    "**Part 2:** Feature engineering\n",
    "* Perform feature selection, extraction, and transformation to prepare the data for modeling\n",
    "\n",
    "**Part 3:** Modeling\n",
    "* Build the models, evaluate them, and advise on next steps"
   ]
  },
  {
   "cell_type": "markdown",
   "id": "681153cf",
   "metadata": {
    "papermill": {
     "duration": 0.021569,
     "end_time": "2023-12-13T08:24:39.849656",
     "exception": false,
     "start_time": "2023-12-13T08:24:39.828087",
     "status": "completed"
    },
    "tags": []
   },
   "source": [
    "# **PACE(Plan, Analyze, Construct, and Execute.) stages**"
   ]
  },
  {
   "cell_type": "markdown",
   "id": "ab4f37b7",
   "metadata": {
    "papermill": {
     "duration": 0.022476,
     "end_time": "2023-12-13T08:24:39.893703",
     "exception": false,
     "start_time": "2023-12-13T08:24:39.871227",
     "status": "completed"
    },
    "tags": []
   },
   "source": [
    "# **Plan**\n",
    "\n",
    "1. What are you being asked to do?\n",
    "2. What are the ethical implications of the model? What are the consequences of your model    making errors?\n",
    "\n",
    "   * What is the likely effect of the model when it predicts a false negative (i.e., when       the model says a customer will give a tip, but they actually won't)?\n",
    "   \n",
    "   * What is the likely effect of the model when it predicts a false positive (i.e., when       the model says a customer will not give a tip, but they actually will)?\n",
    "\n",
    "3. Do the benefits of such a model outweigh the potential problems?\n",
    "4. Would you proceed with the request to build this model? Why or why not?\n",
    "5. Can the objective be modified to make it less problematic?\n",
    "\n",
    "**Response**\n",
    "\n",
    "**Question 1:** \n",
    "Predict if a customer will not leave a tip.\n",
    "\n",
    "**Question 2:**\n",
    "Drivers who didn't receive tips will probably be upset that the app told them a customer would leave a tip. If it happened often, drivers might not trust the app. Drivers are unlikely to pick up people who are predicted to not leave tips. Customers will have difficulty finding a taxi that will pick them up, and might get angry at the taxi company. Even when the model is correct, people who can't afford to tip will find it more difficult to get taxis, which limits the accessibility of taxi service to those who pay extra.\n",
    "\n",
    "**Question 3:**\n",
    "It's not good to disincentivize drivers from picking up customers. It could also cause a customer backlash. The problems seem to outweigh the benefits.\n",
    "\n",
    "**Question 4:**\n",
    "No. Effectively limiting equal access to taxis is ethically problematic, and carries a lot of risk.\n",
    "\n",
    "**Question 5:**\n",
    "We can build a model that predicts the most generous customers. This could accomplish the goal of helping taxi drivers increase their earnings from tips while preventing the wrongful exclusion of certain people from using taxis.\n",
    "\n",
    "Suppose you were to modify the modeling objective so, instead of predicting people who won't tip at all, you predicted people who are particularly generous—those who will tip 20% or more? Consider the following questions:\n",
    "\n",
    "**2nd responses:**\n",
    "\n",
    "**Question 1: What features do you need to make this prediction?**\n",
    "\n",
    "Ideally, we'd have behavioral history for each customer, so we could know how much they tipped on previous taxi rides. We'd also want times, dates, and locations of both pickups and dropoffs, estimated fares, and payment method.\n",
    "\n",
    "**Question 2: What would be the target variable?**\n",
    "\n",
    "The target variable would be a binary variable (1 or 0) that indicates whether or not the customer is expected to tip ≥ 20%.\n",
    "\n",
    "**Question 3:**\n",
    "\n",
    "This is a supervised learning, classification task. We could use accuracy, precision, recall, F-score, area under the ROC curve, or a number of other metrics. However, we don't have enough information at this time to know which are most appropriate. We need to know the class balance of the target variable."
   ]
  },
  {
   "cell_type": "markdown",
   "id": "f2578d14",
   "metadata": {
    "papermill": {
     "duration": 0.021988,
     "end_time": "2023-12-13T08:24:39.937775",
     "exception": false,
     "start_time": "2023-12-13T08:24:39.915787",
     "status": "completed"
    },
    "tags": []
   },
   "source": [
    "**Task 1. Imports and data loading**\n",
    "\n",
    "Import packages and libraries needed to build and evaluate random forest and XGBoost classification models"
   ]
  },
  {
   "cell_type": "code",
   "execution_count": 1,
   "id": "0fcad29c",
   "metadata": {
    "execution": {
     "iopub.execute_input": "2023-12-13T08:24:39.983992Z",
     "iopub.status.busy": "2023-12-13T08:24:39.983375Z",
     "iopub.status.idle": "2023-12-13T08:24:43.135046Z",
     "shell.execute_reply": "2023-12-13T08:24:43.133984Z"
    },
    "papermill": {
     "duration": 3.179138,
     "end_time": "2023-12-13T08:24:43.138838",
     "exception": false,
     "start_time": "2023-12-13T08:24:39.959700",
     "status": "completed"
    },
    "tags": []
   },
   "outputs": [],
   "source": [
    "import pandas as pd\n",
    "import numpy as np\n",
    "\n",
    "import matplotlib.pyplot as plt\n",
    "\n",
    "from sklearn.model_selection import GridSearchCV, train_test_split\n",
    "from sklearn.metrics import roc_auc_score, roc_curve\n",
    "from sklearn.metrics import accuracy_score, precision_score, recall_score, f1_score, confusion_matrix, ConfusionMatrixDisplay, RocCurveDisplay\n",
    "\n",
    "from sklearn.ensemble import RandomForestClassifier\n",
    "from xgboost import XGBClassifier\n",
    "\n",
    "#This is the function that helps plot feature importance\n",
    "from xgboost import plot_importance\n",
    "\n",
    "# RUN THIS CELL TO SEE ALL COLUMNS \n",
    "# This lets us see all of the columns, preventing Juptyer from redacting them.\n",
    "pd.set_option('display.max_columns', None)\n",
    "\n",
    "#to avoid the warning\n",
    "import warnings\n",
    "# Ignore all warnings\n",
    "warnings.filterwarnings(\"ignore\")"
   ]
  },
  {
   "cell_type": "code",
   "execution_count": 2,
   "id": "65aa5c8e",
   "metadata": {
    "execution": {
     "iopub.execute_input": "2023-12-13T08:24:43.188151Z",
     "iopub.status.busy": "2023-12-13T08:24:43.187462Z",
     "iopub.status.idle": "2023-12-13T08:24:43.405173Z",
     "shell.execute_reply": "2023-12-13T08:24:43.403922Z"
    },
    "papermill": {
     "duration": 0.246801,
     "end_time": "2023-12-13T08:24:43.408743",
     "exception": false,
     "start_time": "2023-12-13T08:24:43.161942",
     "status": "completed"
    },
    "tags": []
   },
   "outputs": [],
   "source": [
    "#import dataset into dataframe\n",
    "df = pd.read_csv('/kaggle/input/automatidata/2017_Yellow_Taxi_Trip_Data.csv')\n",
    "\n",
    "#import predicted fares and mean distance and duration \n",
    "nyc_preds_means = pd.read_csv('/kaggle/input/automatidata/nyc_preds_means.csv')"
   ]
  },
  {
   "cell_type": "code",
   "execution_count": 3,
   "id": "d3d62531",
   "metadata": {
    "execution": {
     "iopub.execute_input": "2023-12-13T08:24:43.458826Z",
     "iopub.status.busy": "2023-12-13T08:24:43.458299Z",
     "iopub.status.idle": "2023-12-13T08:24:43.499909Z",
     "shell.execute_reply": "2023-12-13T08:24:43.497845Z"
    },
    "papermill": {
     "duration": 0.07066,
     "end_time": "2023-12-13T08:24:43.502966",
     "exception": false,
     "start_time": "2023-12-13T08:24:43.432306",
     "status": "completed"
    },
    "tags": []
   },
   "outputs": [
    {
     "data": {
      "text/html": [
       "<div>\n",
       "<style scoped>\n",
       "    .dataframe tbody tr th:only-of-type {\n",
       "        vertical-align: middle;\n",
       "    }\n",
       "\n",
       "    .dataframe tbody tr th {\n",
       "        vertical-align: top;\n",
       "    }\n",
       "\n",
       "    .dataframe thead th {\n",
       "        text-align: right;\n",
       "    }\n",
       "</style>\n",
       "<table border=\"1\" class=\"dataframe\">\n",
       "  <thead>\n",
       "    <tr style=\"text-align: right;\">\n",
       "      <th></th>\n",
       "      <th>Unnamed: 0</th>\n",
       "      <th>VendorID</th>\n",
       "      <th>tpep_pickup_datetime</th>\n",
       "      <th>tpep_dropoff_datetime</th>\n",
       "      <th>passenger_count</th>\n",
       "      <th>trip_distance</th>\n",
       "      <th>RatecodeID</th>\n",
       "      <th>store_and_fwd_flag</th>\n",
       "      <th>PULocationID</th>\n",
       "      <th>DOLocationID</th>\n",
       "      <th>payment_type</th>\n",
       "      <th>fare_amount</th>\n",
       "      <th>extra</th>\n",
       "      <th>mta_tax</th>\n",
       "      <th>tip_amount</th>\n",
       "      <th>tolls_amount</th>\n",
       "      <th>improvement_surcharge</th>\n",
       "      <th>total_amount</th>\n",
       "    </tr>\n",
       "  </thead>\n",
       "  <tbody>\n",
       "    <tr>\n",
       "      <th>0</th>\n",
       "      <td>24870114</td>\n",
       "      <td>2</td>\n",
       "      <td>03/25/2017 8:55:43 AM</td>\n",
       "      <td>03/25/2017 9:09:47 AM</td>\n",
       "      <td>6</td>\n",
       "      <td>3.34</td>\n",
       "      <td>1</td>\n",
       "      <td>N</td>\n",
       "      <td>100</td>\n",
       "      <td>231</td>\n",
       "      <td>1</td>\n",
       "      <td>13.0</td>\n",
       "      <td>0.0</td>\n",
       "      <td>0.5</td>\n",
       "      <td>2.76</td>\n",
       "      <td>0.0</td>\n",
       "      <td>0.3</td>\n",
       "      <td>16.56</td>\n",
       "    </tr>\n",
       "    <tr>\n",
       "      <th>1</th>\n",
       "      <td>35634249</td>\n",
       "      <td>1</td>\n",
       "      <td>04/11/2017 2:53:28 PM</td>\n",
       "      <td>04/11/2017 3:19:58 PM</td>\n",
       "      <td>1</td>\n",
       "      <td>1.80</td>\n",
       "      <td>1</td>\n",
       "      <td>N</td>\n",
       "      <td>186</td>\n",
       "      <td>43</td>\n",
       "      <td>1</td>\n",
       "      <td>16.0</td>\n",
       "      <td>0.0</td>\n",
       "      <td>0.5</td>\n",
       "      <td>4.00</td>\n",
       "      <td>0.0</td>\n",
       "      <td>0.3</td>\n",
       "      <td>20.80</td>\n",
       "    </tr>\n",
       "    <tr>\n",
       "      <th>2</th>\n",
       "      <td>106203690</td>\n",
       "      <td>1</td>\n",
       "      <td>12/15/2017 7:26:56 AM</td>\n",
       "      <td>12/15/2017 7:34:08 AM</td>\n",
       "      <td>1</td>\n",
       "      <td>1.00</td>\n",
       "      <td>1</td>\n",
       "      <td>N</td>\n",
       "      <td>262</td>\n",
       "      <td>236</td>\n",
       "      <td>1</td>\n",
       "      <td>6.5</td>\n",
       "      <td>0.0</td>\n",
       "      <td>0.5</td>\n",
       "      <td>1.45</td>\n",
       "      <td>0.0</td>\n",
       "      <td>0.3</td>\n",
       "      <td>8.75</td>\n",
       "    </tr>\n",
       "    <tr>\n",
       "      <th>3</th>\n",
       "      <td>38942136</td>\n",
       "      <td>2</td>\n",
       "      <td>05/07/2017 1:17:59 PM</td>\n",
       "      <td>05/07/2017 1:48:14 PM</td>\n",
       "      <td>1</td>\n",
       "      <td>3.70</td>\n",
       "      <td>1</td>\n",
       "      <td>N</td>\n",
       "      <td>188</td>\n",
       "      <td>97</td>\n",
       "      <td>1</td>\n",
       "      <td>20.5</td>\n",
       "      <td>0.0</td>\n",
       "      <td>0.5</td>\n",
       "      <td>6.39</td>\n",
       "      <td>0.0</td>\n",
       "      <td>0.3</td>\n",
       "      <td>27.69</td>\n",
       "    </tr>\n",
       "    <tr>\n",
       "      <th>4</th>\n",
       "      <td>30841670</td>\n",
       "      <td>2</td>\n",
       "      <td>04/15/2017 11:32:20 PM</td>\n",
       "      <td>04/15/2017 11:49:03 PM</td>\n",
       "      <td>1</td>\n",
       "      <td>4.37</td>\n",
       "      <td>1</td>\n",
       "      <td>N</td>\n",
       "      <td>4</td>\n",
       "      <td>112</td>\n",
       "      <td>2</td>\n",
       "      <td>16.5</td>\n",
       "      <td>0.5</td>\n",
       "      <td>0.5</td>\n",
       "      <td>0.00</td>\n",
       "      <td>0.0</td>\n",
       "      <td>0.3</td>\n",
       "      <td>17.80</td>\n",
       "    </tr>\n",
       "  </tbody>\n",
       "</table>\n",
       "</div>"
      ],
      "text/plain": [
       "   Unnamed: 0  VendorID    tpep_pickup_datetime   tpep_dropoff_datetime  \\\n",
       "0    24870114         2   03/25/2017 8:55:43 AM   03/25/2017 9:09:47 AM   \n",
       "1    35634249         1   04/11/2017 2:53:28 PM   04/11/2017 3:19:58 PM   \n",
       "2   106203690         1   12/15/2017 7:26:56 AM   12/15/2017 7:34:08 AM   \n",
       "3    38942136         2   05/07/2017 1:17:59 PM   05/07/2017 1:48:14 PM   \n",
       "4    30841670         2  04/15/2017 11:32:20 PM  04/15/2017 11:49:03 PM   \n",
       "\n",
       "   passenger_count  trip_distance  RatecodeID store_and_fwd_flag  \\\n",
       "0                6           3.34           1                  N   \n",
       "1                1           1.80           1                  N   \n",
       "2                1           1.00           1                  N   \n",
       "3                1           3.70           1                  N   \n",
       "4                1           4.37           1                  N   \n",
       "\n",
       "   PULocationID  DOLocationID  payment_type  fare_amount  extra  mta_tax  \\\n",
       "0           100           231             1         13.0    0.0      0.5   \n",
       "1           186            43             1         16.0    0.0      0.5   \n",
       "2           262           236             1          6.5    0.0      0.5   \n",
       "3           188            97             1         20.5    0.0      0.5   \n",
       "4             4           112             2         16.5    0.5      0.5   \n",
       "\n",
       "   tip_amount  tolls_amount  improvement_surcharge  total_amount  \n",
       "0        2.76           0.0                    0.3         16.56  \n",
       "1        4.00           0.0                    0.3         20.80  \n",
       "2        1.45           0.0                    0.3          8.75  \n",
       "3        6.39           0.0                    0.3         27.69  \n",
       "4        0.00           0.0                    0.3         17.80  "
      ]
     },
     "execution_count": 3,
     "metadata": {},
     "output_type": "execute_result"
    }
   ],
   "source": [
    "#inspect the first few rows of df1\n",
    "df.head()"
   ]
  },
  {
   "cell_type": "code",
   "execution_count": 4,
   "id": "36331541",
   "metadata": {
    "execution": {
     "iopub.execute_input": "2023-12-13T08:24:43.554238Z",
     "iopub.status.busy": "2023-12-13T08:24:43.553812Z",
     "iopub.status.idle": "2023-12-13T08:24:43.566104Z",
     "shell.execute_reply": "2023-12-13T08:24:43.565111Z"
    },
    "papermill": {
     "duration": 0.0389,
     "end_time": "2023-12-13T08:24:43.568306",
     "exception": false,
     "start_time": "2023-12-13T08:24:43.529406",
     "status": "completed"
    },
    "tags": []
   },
   "outputs": [
    {
     "data": {
      "text/html": [
       "<div>\n",
       "<style scoped>\n",
       "    .dataframe tbody tr th:only-of-type {\n",
       "        vertical-align: middle;\n",
       "    }\n",
       "\n",
       "    .dataframe tbody tr th {\n",
       "        vertical-align: top;\n",
       "    }\n",
       "\n",
       "    .dataframe thead th {\n",
       "        text-align: right;\n",
       "    }\n",
       "</style>\n",
       "<table border=\"1\" class=\"dataframe\">\n",
       "  <thead>\n",
       "    <tr style=\"text-align: right;\">\n",
       "      <th></th>\n",
       "      <th>mean_duration</th>\n",
       "      <th>mean_distance</th>\n",
       "      <th>predicted_fare</th>\n",
       "    </tr>\n",
       "  </thead>\n",
       "  <tbody>\n",
       "    <tr>\n",
       "      <th>0</th>\n",
       "      <td>22.847222</td>\n",
       "      <td>3.521667</td>\n",
       "      <td>16.434245</td>\n",
       "    </tr>\n",
       "    <tr>\n",
       "      <th>1</th>\n",
       "      <td>24.470370</td>\n",
       "      <td>3.108889</td>\n",
       "      <td>16.052218</td>\n",
       "    </tr>\n",
       "    <tr>\n",
       "      <th>2</th>\n",
       "      <td>7.250000</td>\n",
       "      <td>0.881429</td>\n",
       "      <td>7.053706</td>\n",
       "    </tr>\n",
       "    <tr>\n",
       "      <th>3</th>\n",
       "      <td>30.250000</td>\n",
       "      <td>3.700000</td>\n",
       "      <td>18.731650</td>\n",
       "    </tr>\n",
       "    <tr>\n",
       "      <th>4</th>\n",
       "      <td>14.616667</td>\n",
       "      <td>4.435000</td>\n",
       "      <td>15.845642</td>\n",
       "    </tr>\n",
       "  </tbody>\n",
       "</table>\n",
       "</div>"
      ],
      "text/plain": [
       "   mean_duration  mean_distance  predicted_fare\n",
       "0      22.847222       3.521667       16.434245\n",
       "1      24.470370       3.108889       16.052218\n",
       "2       7.250000       0.881429        7.053706\n",
       "3      30.250000       3.700000       18.731650\n",
       "4      14.616667       4.435000       15.845642"
      ]
     },
     "execution_count": 4,
     "metadata": {},
     "output_type": "execute_result"
    }
   ],
   "source": [
    "#inspect the first few rows of 'nyc_preds_means'\n",
    "nyc_preds_means.head()"
   ]
  },
  {
   "cell_type": "markdown",
   "id": "d37a99d3",
   "metadata": {
    "papermill": {
     "duration": 0.022387,
     "end_time": "2023-12-13T08:24:43.613902",
     "exception": false,
     "start_time": "2023-12-13T08:24:43.591515",
     "status": "completed"
    },
    "tags": []
   },
   "source": [
    "**JOIN THE TWO DATA FRAME**"
   ]
  },
  {
   "cell_type": "code",
   "execution_count": 5,
   "id": "80a52f7f",
   "metadata": {
    "execution": {
     "iopub.execute_input": "2023-12-13T08:24:43.734777Z",
     "iopub.status.busy": "2023-12-13T08:24:43.734362Z",
     "iopub.status.idle": "2023-12-13T08:24:43.773848Z",
     "shell.execute_reply": "2023-12-13T08:24:43.772972Z"
    },
    "papermill": {
     "duration": 0.066438,
     "end_time": "2023-12-13T08:24:43.776735",
     "exception": false,
     "start_time": "2023-12-13T08:24:43.710297",
     "status": "completed"
    },
    "tags": []
   },
   "outputs": [
    {
     "data": {
      "text/html": [
       "<div>\n",
       "<style scoped>\n",
       "    .dataframe tbody tr th:only-of-type {\n",
       "        vertical-align: middle;\n",
       "    }\n",
       "\n",
       "    .dataframe tbody tr th {\n",
       "        vertical-align: top;\n",
       "    }\n",
       "\n",
       "    .dataframe thead th {\n",
       "        text-align: right;\n",
       "    }\n",
       "</style>\n",
       "<table border=\"1\" class=\"dataframe\">\n",
       "  <thead>\n",
       "    <tr style=\"text-align: right;\">\n",
       "      <th></th>\n",
       "      <th>Unnamed: 0</th>\n",
       "      <th>VendorID</th>\n",
       "      <th>tpep_pickup_datetime</th>\n",
       "      <th>tpep_dropoff_datetime</th>\n",
       "      <th>passenger_count</th>\n",
       "      <th>trip_distance</th>\n",
       "      <th>RatecodeID</th>\n",
       "      <th>store_and_fwd_flag</th>\n",
       "      <th>PULocationID</th>\n",
       "      <th>DOLocationID</th>\n",
       "      <th>payment_type</th>\n",
       "      <th>fare_amount</th>\n",
       "      <th>extra</th>\n",
       "      <th>mta_tax</th>\n",
       "      <th>tip_amount</th>\n",
       "      <th>tolls_amount</th>\n",
       "      <th>improvement_surcharge</th>\n",
       "      <th>total_amount</th>\n",
       "      <th>mean_duration</th>\n",
       "      <th>mean_distance</th>\n",
       "      <th>predicted_fare</th>\n",
       "    </tr>\n",
       "  </thead>\n",
       "  <tbody>\n",
       "    <tr>\n",
       "      <th>0</th>\n",
       "      <td>24870114</td>\n",
       "      <td>2</td>\n",
       "      <td>03/25/2017 8:55:43 AM</td>\n",
       "      <td>03/25/2017 9:09:47 AM</td>\n",
       "      <td>6</td>\n",
       "      <td>3.34</td>\n",
       "      <td>1</td>\n",
       "      <td>N</td>\n",
       "      <td>100</td>\n",
       "      <td>231</td>\n",
       "      <td>1</td>\n",
       "      <td>13.0</td>\n",
       "      <td>0.0</td>\n",
       "      <td>0.5</td>\n",
       "      <td>2.76</td>\n",
       "      <td>0.0</td>\n",
       "      <td>0.3</td>\n",
       "      <td>16.56</td>\n",
       "      <td>22.847222</td>\n",
       "      <td>3.521667</td>\n",
       "      <td>16.434245</td>\n",
       "    </tr>\n",
       "    <tr>\n",
       "      <th>1</th>\n",
       "      <td>35634249</td>\n",
       "      <td>1</td>\n",
       "      <td>04/11/2017 2:53:28 PM</td>\n",
       "      <td>04/11/2017 3:19:58 PM</td>\n",
       "      <td>1</td>\n",
       "      <td>1.80</td>\n",
       "      <td>1</td>\n",
       "      <td>N</td>\n",
       "      <td>186</td>\n",
       "      <td>43</td>\n",
       "      <td>1</td>\n",
       "      <td>16.0</td>\n",
       "      <td>0.0</td>\n",
       "      <td>0.5</td>\n",
       "      <td>4.00</td>\n",
       "      <td>0.0</td>\n",
       "      <td>0.3</td>\n",
       "      <td>20.80</td>\n",
       "      <td>24.470370</td>\n",
       "      <td>3.108889</td>\n",
       "      <td>16.052218</td>\n",
       "    </tr>\n",
       "    <tr>\n",
       "      <th>2</th>\n",
       "      <td>106203690</td>\n",
       "      <td>1</td>\n",
       "      <td>12/15/2017 7:26:56 AM</td>\n",
       "      <td>12/15/2017 7:34:08 AM</td>\n",
       "      <td>1</td>\n",
       "      <td>1.00</td>\n",
       "      <td>1</td>\n",
       "      <td>N</td>\n",
       "      <td>262</td>\n",
       "      <td>236</td>\n",
       "      <td>1</td>\n",
       "      <td>6.5</td>\n",
       "      <td>0.0</td>\n",
       "      <td>0.5</td>\n",
       "      <td>1.45</td>\n",
       "      <td>0.0</td>\n",
       "      <td>0.3</td>\n",
       "      <td>8.75</td>\n",
       "      <td>7.250000</td>\n",
       "      <td>0.881429</td>\n",
       "      <td>7.053706</td>\n",
       "    </tr>\n",
       "    <tr>\n",
       "      <th>3</th>\n",
       "      <td>38942136</td>\n",
       "      <td>2</td>\n",
       "      <td>05/07/2017 1:17:59 PM</td>\n",
       "      <td>05/07/2017 1:48:14 PM</td>\n",
       "      <td>1</td>\n",
       "      <td>3.70</td>\n",
       "      <td>1</td>\n",
       "      <td>N</td>\n",
       "      <td>188</td>\n",
       "      <td>97</td>\n",
       "      <td>1</td>\n",
       "      <td>20.5</td>\n",
       "      <td>0.0</td>\n",
       "      <td>0.5</td>\n",
       "      <td>6.39</td>\n",
       "      <td>0.0</td>\n",
       "      <td>0.3</td>\n",
       "      <td>27.69</td>\n",
       "      <td>30.250000</td>\n",
       "      <td>3.700000</td>\n",
       "      <td>18.731650</td>\n",
       "    </tr>\n",
       "    <tr>\n",
       "      <th>4</th>\n",
       "      <td>30841670</td>\n",
       "      <td>2</td>\n",
       "      <td>04/15/2017 11:32:20 PM</td>\n",
       "      <td>04/15/2017 11:49:03 PM</td>\n",
       "      <td>1</td>\n",
       "      <td>4.37</td>\n",
       "      <td>1</td>\n",
       "      <td>N</td>\n",
       "      <td>4</td>\n",
       "      <td>112</td>\n",
       "      <td>2</td>\n",
       "      <td>16.5</td>\n",
       "      <td>0.5</td>\n",
       "      <td>0.5</td>\n",
       "      <td>0.00</td>\n",
       "      <td>0.0</td>\n",
       "      <td>0.3</td>\n",
       "      <td>17.80</td>\n",
       "      <td>14.616667</td>\n",
       "      <td>4.435000</td>\n",
       "      <td>15.845642</td>\n",
       "    </tr>\n",
       "  </tbody>\n",
       "</table>\n",
       "</div>"
      ],
      "text/plain": [
       "   Unnamed: 0  VendorID    tpep_pickup_datetime   tpep_dropoff_datetime  \\\n",
       "0    24870114         2   03/25/2017 8:55:43 AM   03/25/2017 9:09:47 AM   \n",
       "1    35634249         1   04/11/2017 2:53:28 PM   04/11/2017 3:19:58 PM   \n",
       "2   106203690         1   12/15/2017 7:26:56 AM   12/15/2017 7:34:08 AM   \n",
       "3    38942136         2   05/07/2017 1:17:59 PM   05/07/2017 1:48:14 PM   \n",
       "4    30841670         2  04/15/2017 11:32:20 PM  04/15/2017 11:49:03 PM   \n",
       "\n",
       "   passenger_count  trip_distance  RatecodeID store_and_fwd_flag  \\\n",
       "0                6           3.34           1                  N   \n",
       "1                1           1.80           1                  N   \n",
       "2                1           1.00           1                  N   \n",
       "3                1           3.70           1                  N   \n",
       "4                1           4.37           1                  N   \n",
       "\n",
       "   PULocationID  DOLocationID  payment_type  fare_amount  extra  mta_tax  \\\n",
       "0           100           231             1         13.0    0.0      0.5   \n",
       "1           186            43             1         16.0    0.0      0.5   \n",
       "2           262           236             1          6.5    0.0      0.5   \n",
       "3           188            97             1         20.5    0.0      0.5   \n",
       "4             4           112             2         16.5    0.5      0.5   \n",
       "\n",
       "   tip_amount  tolls_amount  improvement_surcharge  total_amount  \\\n",
       "0        2.76           0.0                    0.3         16.56   \n",
       "1        4.00           0.0                    0.3         20.80   \n",
       "2        1.45           0.0                    0.3          8.75   \n",
       "3        6.39           0.0                    0.3         27.69   \n",
       "4        0.00           0.0                    0.3         17.80   \n",
       "\n",
       "   mean_duration  mean_distance  predicted_fare  \n",
       "0      22.847222       3.521667       16.434245  \n",
       "1      24.470370       3.108889       16.052218  \n",
       "2       7.250000       0.881429        7.053706  \n",
       "3      30.250000       3.700000       18.731650  \n",
       "4      14.616667       4.435000       15.845642  "
      ]
     },
     "execution_count": 5,
     "metadata": {},
     "output_type": "execute_result"
    }
   ],
   "source": [
    "df1 = df.merge(nyc_preds_means, left_index = True, right_index = True)\n",
    "df1.head()"
   ]
  },
  {
   "cell_type": "markdown",
   "id": "0023eca2",
   "metadata": {
    "papermill": {
     "duration": 0.026554,
     "end_time": "2023-12-13T08:24:43.828211",
     "exception": false,
     "start_time": "2023-12-13T08:24:43.801657",
     "status": "completed"
    },
    "tags": []
   },
   "source": [
    "**EXPOLATORY DATA ANALYSIS(EDA)**"
   ]
  },
  {
   "cell_type": "code",
   "execution_count": 6,
   "id": "d3d36b2f",
   "metadata": {
    "execution": {
     "iopub.execute_input": "2023-12-13T08:24:43.878765Z",
     "iopub.status.busy": "2023-12-13T08:24:43.878274Z",
     "iopub.status.idle": "2023-12-13T08:24:43.891781Z",
     "shell.execute_reply": "2023-12-13T08:24:43.890563Z"
    },
    "papermill": {
     "duration": 0.043503,
     "end_time": "2023-12-13T08:24:43.894877",
     "exception": false,
     "start_time": "2023-12-13T08:24:43.851374",
     "status": "completed"
    },
    "tags": []
   },
   "outputs": [],
   "source": [
    "#Creating copy of the original datasets\n",
    "\n",
    "df2 = df1.copy()"
   ]
  },
  {
   "cell_type": "code",
   "execution_count": 7,
   "id": "4be2ecc4",
   "metadata": {
    "execution": {
     "iopub.execute_input": "2023-12-13T08:24:43.944733Z",
     "iopub.status.busy": "2023-12-13T08:24:43.944293Z",
     "iopub.status.idle": "2023-12-13T08:24:43.951052Z",
     "shell.execute_reply": "2023-12-13T08:24:43.949766Z"
    },
    "papermill": {
     "duration": 0.034022,
     "end_time": "2023-12-13T08:24:43.953705",
     "exception": false,
     "start_time": "2023-12-13T08:24:43.919683",
     "status": "completed"
    },
    "tags": []
   },
   "outputs": [
    {
     "data": {
      "text/plain": [
       "(22699, 21)"
      ]
     },
     "execution_count": 7,
     "metadata": {},
     "output_type": "execute_result"
    }
   ],
   "source": [
    "#Display the dataset's shape\n",
    "df2.shape"
   ]
  },
  {
   "cell_type": "code",
   "execution_count": 8,
   "id": "71ab1f4e",
   "metadata": {
    "execution": {
     "iopub.execute_input": "2023-12-13T08:24:44.003186Z",
     "iopub.status.busy": "2023-12-13T08:24:44.002729Z",
     "iopub.status.idle": "2023-12-13T08:24:44.041434Z",
     "shell.execute_reply": "2023-12-13T08:24:44.039577Z"
    },
    "papermill": {
     "duration": 0.067287,
     "end_time": "2023-12-13T08:24:44.044061",
     "exception": false,
     "start_time": "2023-12-13T08:24:43.976774",
     "status": "completed"
    },
    "tags": []
   },
   "outputs": [
    {
     "name": "stdout",
     "output_type": "stream",
     "text": [
      "<class 'pandas.core.frame.DataFrame'>\n",
      "RangeIndex: 22699 entries, 0 to 22698\n",
      "Data columns (total 21 columns):\n",
      " #   Column                 Non-Null Count  Dtype  \n",
      "---  ------                 --------------  -----  \n",
      " 0   Unnamed: 0             22699 non-null  int64  \n",
      " 1   VendorID               22699 non-null  int64  \n",
      " 2   tpep_pickup_datetime   22699 non-null  object \n",
      " 3   tpep_dropoff_datetime  22699 non-null  object \n",
      " 4   passenger_count        22699 non-null  int64  \n",
      " 5   trip_distance          22699 non-null  float64\n",
      " 6   RatecodeID             22699 non-null  int64  \n",
      " 7   store_and_fwd_flag     22699 non-null  object \n",
      " 8   PULocationID           22699 non-null  int64  \n",
      " 9   DOLocationID           22699 non-null  int64  \n",
      " 10  payment_type           22699 non-null  int64  \n",
      " 11  fare_amount            22699 non-null  float64\n",
      " 12  extra                  22699 non-null  float64\n",
      " 13  mta_tax                22699 non-null  float64\n",
      " 14  tip_amount             22699 non-null  float64\n",
      " 15  tolls_amount           22699 non-null  float64\n",
      " 16  improvement_surcharge  22699 non-null  float64\n",
      " 17  total_amount           22699 non-null  float64\n",
      " 18  mean_duration          22699 non-null  float64\n",
      " 19  mean_distance          22699 non-null  float64\n",
      " 20  predicted_fare         22699 non-null  float64\n",
      "dtypes: float64(11), int64(7), object(3)\n",
      "memory usage: 3.6+ MB\n"
     ]
    }
   ],
   "source": [
    "#display basic info about the dataset\n",
    "df2.info()"
   ]
  },
  {
   "cell_type": "code",
   "execution_count": 9,
   "id": "a7a58133",
   "metadata": {
    "execution": {
     "iopub.execute_input": "2023-12-13T08:24:44.093145Z",
     "iopub.status.busy": "2023-12-13T08:24:44.092717Z",
     "iopub.status.idle": "2023-12-13T08:24:44.111856Z",
     "shell.execute_reply": "2023-12-13T08:24:44.110523Z"
    },
    "papermill": {
     "duration": 0.047379,
     "end_time": "2023-12-13T08:24:44.114720",
     "exception": false,
     "start_time": "2023-12-13T08:24:44.067341",
     "status": "completed"
    },
    "tags": []
   },
   "outputs": [
    {
     "data": {
      "text/plain": [
       "Unnamed: 0               0\n",
       "VendorID                 0\n",
       "tpep_pickup_datetime     0\n",
       "tpep_dropoff_datetime    0\n",
       "passenger_count          0\n",
       "trip_distance            0\n",
       "RatecodeID               0\n",
       "store_and_fwd_flag       0\n",
       "PULocationID             0\n",
       "DOLocationID             0\n",
       "payment_type             0\n",
       "fare_amount              0\n",
       "extra                    0\n",
       "mta_tax                  0\n",
       "tip_amount               0\n",
       "tolls_amount             0\n",
       "improvement_surcharge    0\n",
       "total_amount             0\n",
       "mean_duration            0\n",
       "mean_distance            0\n",
       "predicted_fare           0\n",
       "dtype: int64"
      ]
     },
     "execution_count": 9,
     "metadata": {},
     "output_type": "execute_result"
    }
   ],
   "source": [
    "# Check for missing data and duplicates using .isna() and .drop_duplicates()\n",
    "df2.isna().sum()"
   ]
  },
  {
   "cell_type": "markdown",
   "id": "881b9936",
   "metadata": {
    "papermill": {
     "duration": 0.023383,
     "end_time": "2023-12-13T08:24:44.164325",
     "exception": false,
     "start_time": "2023-12-13T08:24:44.140942",
     "status": "completed"
    },
    "tags": []
   },
   "source": [
    "There is no duplicates and no missing value in the datasets"
   ]
  },
  {
   "cell_type": "code",
   "execution_count": 10,
   "id": "bab5a828",
   "metadata": {
    "execution": {
     "iopub.execute_input": "2023-12-13T08:24:44.219564Z",
     "iopub.status.busy": "2023-12-13T08:24:44.218815Z",
     "iopub.status.idle": "2023-12-13T08:24:44.316812Z",
     "shell.execute_reply": "2023-12-13T08:24:44.314694Z"
    },
    "papermill": {
     "duration": 0.130231,
     "end_time": "2023-12-13T08:24:44.320881",
     "exception": false,
     "start_time": "2023-12-13T08:24:44.190650",
     "status": "completed"
    },
    "tags": []
   },
   "outputs": [
    {
     "data": {
      "text/html": [
       "<div>\n",
       "<style scoped>\n",
       "    .dataframe tbody tr th:only-of-type {\n",
       "        vertical-align: middle;\n",
       "    }\n",
       "\n",
       "    .dataframe tbody tr th {\n",
       "        vertical-align: top;\n",
       "    }\n",
       "\n",
       "    .dataframe thead th {\n",
       "        text-align: right;\n",
       "    }\n",
       "</style>\n",
       "<table border=\"1\" class=\"dataframe\">\n",
       "  <thead>\n",
       "    <tr style=\"text-align: right;\">\n",
       "      <th></th>\n",
       "      <th>Unnamed: 0</th>\n",
       "      <th>VendorID</th>\n",
       "      <th>passenger_count</th>\n",
       "      <th>trip_distance</th>\n",
       "      <th>RatecodeID</th>\n",
       "      <th>PULocationID</th>\n",
       "      <th>DOLocationID</th>\n",
       "      <th>payment_type</th>\n",
       "      <th>fare_amount</th>\n",
       "      <th>extra</th>\n",
       "      <th>mta_tax</th>\n",
       "      <th>tip_amount</th>\n",
       "      <th>tolls_amount</th>\n",
       "      <th>improvement_surcharge</th>\n",
       "      <th>total_amount</th>\n",
       "      <th>mean_duration</th>\n",
       "      <th>mean_distance</th>\n",
       "      <th>predicted_fare</th>\n",
       "    </tr>\n",
       "  </thead>\n",
       "  <tbody>\n",
       "    <tr>\n",
       "      <th>count</th>\n",
       "      <td>2.269900e+04</td>\n",
       "      <td>22699.000000</td>\n",
       "      <td>22699.000000</td>\n",
       "      <td>22699.000000</td>\n",
       "      <td>22699.000000</td>\n",
       "      <td>22699.000000</td>\n",
       "      <td>22699.000000</td>\n",
       "      <td>22699.000000</td>\n",
       "      <td>22699.000000</td>\n",
       "      <td>22699.000000</td>\n",
       "      <td>22699.000000</td>\n",
       "      <td>22699.000000</td>\n",
       "      <td>22699.000000</td>\n",
       "      <td>22699.000000</td>\n",
       "      <td>22699.000000</td>\n",
       "      <td>22699.000000</td>\n",
       "      <td>22699.000000</td>\n",
       "      <td>22699.000000</td>\n",
       "    </tr>\n",
       "    <tr>\n",
       "      <th>mean</th>\n",
       "      <td>5.675849e+07</td>\n",
       "      <td>1.556236</td>\n",
       "      <td>1.642319</td>\n",
       "      <td>2.913313</td>\n",
       "      <td>1.043394</td>\n",
       "      <td>162.412353</td>\n",
       "      <td>161.527997</td>\n",
       "      <td>1.336887</td>\n",
       "      <td>13.026629</td>\n",
       "      <td>0.333275</td>\n",
       "      <td>0.497445</td>\n",
       "      <td>1.835781</td>\n",
       "      <td>0.312542</td>\n",
       "      <td>0.299551</td>\n",
       "      <td>16.310502</td>\n",
       "      <td>14.460555</td>\n",
       "      <td>2.913313</td>\n",
       "      <td>12.979534</td>\n",
       "    </tr>\n",
       "    <tr>\n",
       "      <th>std</th>\n",
       "      <td>3.274493e+07</td>\n",
       "      <td>0.496838</td>\n",
       "      <td>1.285231</td>\n",
       "      <td>3.653171</td>\n",
       "      <td>0.708391</td>\n",
       "      <td>66.633373</td>\n",
       "      <td>70.139691</td>\n",
       "      <td>0.496211</td>\n",
       "      <td>13.243791</td>\n",
       "      <td>0.463097</td>\n",
       "      <td>0.039465</td>\n",
       "      <td>2.800626</td>\n",
       "      <td>1.399212</td>\n",
       "      <td>0.015673</td>\n",
       "      <td>16.097295</td>\n",
       "      <td>10.080913</td>\n",
       "      <td>3.558993</td>\n",
       "      <td>9.706126</td>\n",
       "    </tr>\n",
       "    <tr>\n",
       "      <th>min</th>\n",
       "      <td>1.212700e+04</td>\n",
       "      <td>1.000000</td>\n",
       "      <td>0.000000</td>\n",
       "      <td>0.000000</td>\n",
       "      <td>1.000000</td>\n",
       "      <td>1.000000</td>\n",
       "      <td>1.000000</td>\n",
       "      <td>1.000000</td>\n",
       "      <td>-120.000000</td>\n",
       "      <td>-1.000000</td>\n",
       "      <td>-0.500000</td>\n",
       "      <td>0.000000</td>\n",
       "      <td>0.000000</td>\n",
       "      <td>-0.300000</td>\n",
       "      <td>-120.300000</td>\n",
       "      <td>0.000000</td>\n",
       "      <td>0.000000</td>\n",
       "      <td>2.934494</td>\n",
       "    </tr>\n",
       "    <tr>\n",
       "      <th>25%</th>\n",
       "      <td>2.852056e+07</td>\n",
       "      <td>1.000000</td>\n",
       "      <td>1.000000</td>\n",
       "      <td>0.990000</td>\n",
       "      <td>1.000000</td>\n",
       "      <td>114.000000</td>\n",
       "      <td>112.000000</td>\n",
       "      <td>1.000000</td>\n",
       "      <td>6.500000</td>\n",
       "      <td>0.000000</td>\n",
       "      <td>0.500000</td>\n",
       "      <td>0.000000</td>\n",
       "      <td>0.000000</td>\n",
       "      <td>0.300000</td>\n",
       "      <td>8.750000</td>\n",
       "      <td>8.031481</td>\n",
       "      <td>1.010000</td>\n",
       "      <td>7.396030</td>\n",
       "    </tr>\n",
       "    <tr>\n",
       "      <th>50%</th>\n",
       "      <td>5.673150e+07</td>\n",
       "      <td>2.000000</td>\n",
       "      <td>1.000000</td>\n",
       "      <td>1.610000</td>\n",
       "      <td>1.000000</td>\n",
       "      <td>162.000000</td>\n",
       "      <td>162.000000</td>\n",
       "      <td>1.000000</td>\n",
       "      <td>9.500000</td>\n",
       "      <td>0.000000</td>\n",
       "      <td>0.500000</td>\n",
       "      <td>1.350000</td>\n",
       "      <td>0.000000</td>\n",
       "      <td>0.300000</td>\n",
       "      <td>11.800000</td>\n",
       "      <td>11.556667</td>\n",
       "      <td>1.620000</td>\n",
       "      <td>9.560801</td>\n",
       "    </tr>\n",
       "    <tr>\n",
       "      <th>75%</th>\n",
       "      <td>8.537452e+07</td>\n",
       "      <td>2.000000</td>\n",
       "      <td>2.000000</td>\n",
       "      <td>3.060000</td>\n",
       "      <td>1.000000</td>\n",
       "      <td>233.000000</td>\n",
       "      <td>233.000000</td>\n",
       "      <td>2.000000</td>\n",
       "      <td>14.500000</td>\n",
       "      <td>0.500000</td>\n",
       "      <td>0.500000</td>\n",
       "      <td>2.450000</td>\n",
       "      <td>0.000000</td>\n",
       "      <td>0.300000</td>\n",
       "      <td>17.800000</td>\n",
       "      <td>17.321667</td>\n",
       "      <td>3.115625</td>\n",
       "      <td>13.933373</td>\n",
       "    </tr>\n",
       "    <tr>\n",
       "      <th>max</th>\n",
       "      <td>1.134863e+08</td>\n",
       "      <td>2.000000</td>\n",
       "      <td>6.000000</td>\n",
       "      <td>33.960000</td>\n",
       "      <td>99.000000</td>\n",
       "      <td>265.000000</td>\n",
       "      <td>265.000000</td>\n",
       "      <td>4.000000</td>\n",
       "      <td>999.990000</td>\n",
       "      <td>4.500000</td>\n",
       "      <td>0.500000</td>\n",
       "      <td>200.000000</td>\n",
       "      <td>19.100000</td>\n",
       "      <td>0.300000</td>\n",
       "      <td>1200.290000</td>\n",
       "      <td>88.783333</td>\n",
       "      <td>33.920000</td>\n",
       "      <td>89.171050</td>\n",
       "    </tr>\n",
       "  </tbody>\n",
       "</table>\n",
       "</div>"
      ],
      "text/plain": [
       "         Unnamed: 0      VendorID  passenger_count  trip_distance  \\\n",
       "count  2.269900e+04  22699.000000     22699.000000   22699.000000   \n",
       "mean   5.675849e+07      1.556236         1.642319       2.913313   \n",
       "std    3.274493e+07      0.496838         1.285231       3.653171   \n",
       "min    1.212700e+04      1.000000         0.000000       0.000000   \n",
       "25%    2.852056e+07      1.000000         1.000000       0.990000   \n",
       "50%    5.673150e+07      2.000000         1.000000       1.610000   \n",
       "75%    8.537452e+07      2.000000         2.000000       3.060000   \n",
       "max    1.134863e+08      2.000000         6.000000      33.960000   \n",
       "\n",
       "         RatecodeID  PULocationID  DOLocationID  payment_type   fare_amount  \\\n",
       "count  22699.000000  22699.000000  22699.000000  22699.000000  22699.000000   \n",
       "mean       1.043394    162.412353    161.527997      1.336887     13.026629   \n",
       "std        0.708391     66.633373     70.139691      0.496211     13.243791   \n",
       "min        1.000000      1.000000      1.000000      1.000000   -120.000000   \n",
       "25%        1.000000    114.000000    112.000000      1.000000      6.500000   \n",
       "50%        1.000000    162.000000    162.000000      1.000000      9.500000   \n",
       "75%        1.000000    233.000000    233.000000      2.000000     14.500000   \n",
       "max       99.000000    265.000000    265.000000      4.000000    999.990000   \n",
       "\n",
       "              extra       mta_tax    tip_amount  tolls_amount  \\\n",
       "count  22699.000000  22699.000000  22699.000000  22699.000000   \n",
       "mean       0.333275      0.497445      1.835781      0.312542   \n",
       "std        0.463097      0.039465      2.800626      1.399212   \n",
       "min       -1.000000     -0.500000      0.000000      0.000000   \n",
       "25%        0.000000      0.500000      0.000000      0.000000   \n",
       "50%        0.000000      0.500000      1.350000      0.000000   \n",
       "75%        0.500000      0.500000      2.450000      0.000000   \n",
       "max        4.500000      0.500000    200.000000     19.100000   \n",
       "\n",
       "       improvement_surcharge  total_amount  mean_duration  mean_distance  \\\n",
       "count           22699.000000  22699.000000   22699.000000   22699.000000   \n",
       "mean                0.299551     16.310502      14.460555       2.913313   \n",
       "std                 0.015673     16.097295      10.080913       3.558993   \n",
       "min                -0.300000   -120.300000       0.000000       0.000000   \n",
       "25%                 0.300000      8.750000       8.031481       1.010000   \n",
       "50%                 0.300000     11.800000      11.556667       1.620000   \n",
       "75%                 0.300000     17.800000      17.321667       3.115625   \n",
       "max                 0.300000   1200.290000      88.783333      33.920000   \n",
       "\n",
       "       predicted_fare  \n",
       "count    22699.000000  \n",
       "mean        12.979534  \n",
       "std          9.706126  \n",
       "min          2.934494  \n",
       "25%          7.396030  \n",
       "50%          9.560801  \n",
       "75%         13.933373  \n",
       "max         89.171050  "
      ]
     },
     "execution_count": 10,
     "metadata": {},
     "output_type": "execute_result"
    }
   ],
   "source": [
    "# Display descriptive stats about the data\n",
    "df2.describe()"
   ]
  },
  {
   "cell_type": "markdown",
   "id": "ddb50b9f",
   "metadata": {
    "papermill": {
     "duration": 0.024064,
     "end_time": "2023-12-13T08:24:44.370148",
     "exception": false,
     "start_time": "2023-12-13T08:24:44.346084",
     "status": "completed"
    },
    "tags": []
   },
   "source": [
    "customers who pay cash generally have a tip amount of $0. To meet the modeling objective."
   ]
  },
  {
   "cell_type": "code",
   "execution_count": 11,
   "id": "e60117e4",
   "metadata": {
    "execution": {
     "iopub.execute_input": "2023-12-13T08:24:44.426731Z",
     "iopub.status.busy": "2023-12-13T08:24:44.426132Z",
     "iopub.status.idle": "2023-12-13T08:24:44.436154Z",
     "shell.execute_reply": "2023-12-13T08:24:44.434800Z"
    },
    "papermill": {
     "duration": 0.041828,
     "end_time": "2023-12-13T08:24:44.439131",
     "exception": false,
     "start_time": "2023-12-13T08:24:44.397303",
     "status": "completed"
    },
    "tags": []
   },
   "outputs": [],
   "source": [
    "# Subset the data to isolate only customers who paid by credit card\n",
    "df3 = df2[df2['payment_type']==1]"
   ]
  },
  {
   "cell_type": "code",
   "execution_count": 12,
   "id": "261b7ba2",
   "metadata": {
    "execution": {
     "iopub.execute_input": "2023-12-13T08:24:44.494270Z",
     "iopub.status.busy": "2023-12-13T08:24:44.493806Z",
     "iopub.status.idle": "2023-12-13T08:24:44.501886Z",
     "shell.execute_reply": "2023-12-13T08:24:44.500833Z"
    },
    "papermill": {
     "duration": 0.040443,
     "end_time": "2023-12-13T08:24:44.504683",
     "exception": false,
     "start_time": "2023-12-13T08:24:44.464240",
     "status": "completed"
    },
    "tags": []
   },
   "outputs": [],
   "source": [
    "# Create tip % col\n",
    "df3['tip_percent'] = round(df3['tip_amount'] / (df3['total_amount'] - df3['tip_amount']), 3)"
   ]
  },
  {
   "cell_type": "code",
   "execution_count": 13,
   "id": "f331bddd",
   "metadata": {
    "execution": {
     "iopub.execute_input": "2023-12-13T08:24:44.557993Z",
     "iopub.status.busy": "2023-12-13T08:24:44.556994Z",
     "iopub.status.idle": "2023-12-13T08:24:44.565954Z",
     "shell.execute_reply": "2023-12-13T08:24:44.564739Z"
    },
    "papermill": {
     "duration": 0.037794,
     "end_time": "2023-12-13T08:24:44.568572",
     "exception": false,
     "start_time": "2023-12-13T08:24:44.530778",
     "status": "completed"
    },
    "tags": []
   },
   "outputs": [],
   "source": [
    "#Now creating another column called generous. This will be the target variable. \n",
    "#The column should be a binary indicator of whether or not a customer tipped ≥ 20% (0=no, 1=yes).\n",
    "\n",
    "# Begin by making the generous column a copy of the tip_percent column.\n",
    "# Reassign the column by converting it to Boolean (True/False).\n",
    "# Reassign the column by converting Boolean to binary (1/0).\n",
    "\n",
    "# Create 'generous' col (target)\n",
    "df3['generous'] = df3['tip_percent']\n",
    "df3['generous'] = (df3['generous'] >= 0.2)\n",
    "df3['generous'] = df3['generous'].astype(int)"
   ]
  },
  {
   "cell_type": "code",
   "execution_count": 14,
   "id": "52e8d728",
   "metadata": {
    "execution": {
     "iopub.execute_input": "2023-12-13T08:24:44.623526Z",
     "iopub.status.busy": "2023-12-13T08:24:44.623050Z",
     "iopub.status.idle": "2023-12-13T08:24:44.906442Z",
     "shell.execute_reply": "2023-12-13T08:24:44.904954Z"
    },
    "papermill": {
     "duration": 0.316801,
     "end_time": "2023-12-13T08:24:44.910532",
     "exception": false,
     "start_time": "2023-12-13T08:24:44.593731",
     "status": "completed"
    },
    "tags": []
   },
   "outputs": [],
   "source": [
    "# Convert pickup and dropoff cols to datetime\n",
    "df3['tpep_pickup_datetime'] = pd.to_datetime(df3['tpep_pickup_datetime'], format='%m/%d/%Y %I:%M:%S %p')\n",
    "df3['tpep_dropoff_datetime'] = pd.to_datetime(df3['tpep_dropoff_datetime'], format='%m/%d/%Y %I:%M:%S %p')"
   ]
  },
  {
   "cell_type": "code",
   "execution_count": 15,
   "id": "7e5cae82",
   "metadata": {
    "execution": {
     "iopub.execute_input": "2023-12-13T08:24:44.975038Z",
     "iopub.status.busy": "2023-12-13T08:24:44.974634Z",
     "iopub.status.idle": "2023-12-13T08:24:44.995930Z",
     "shell.execute_reply": "2023-12-13T08:24:44.994746Z"
    },
    "papermill": {
     "duration": 0.05549,
     "end_time": "2023-12-13T08:24:44.998895",
     "exception": false,
     "start_time": "2023-12-13T08:24:44.943405",
     "status": "completed"
    },
    "tags": []
   },
   "outputs": [],
   "source": [
    "# Create a 'day' col\n",
    "df3['day'] = df3['tpep_pickup_datetime'].dt.day_name().str.lower()"
   ]
  },
  {
   "cell_type": "code",
   "execution_count": 16,
   "id": "fdda0f2f",
   "metadata": {
    "execution": {
     "iopub.execute_input": "2023-12-13T08:24:45.052975Z",
     "iopub.status.busy": "2023-12-13T08:24:45.052560Z",
     "iopub.status.idle": "2023-12-13T08:24:45.071751Z",
     "shell.execute_reply": "2023-12-13T08:24:45.069907Z"
    },
    "papermill": {
     "duration": 0.049293,
     "end_time": "2023-12-13T08:24:45.075199",
     "exception": false,
     "start_time": "2023-12-13T08:24:45.025906",
     "status": "completed"
    },
    "tags": []
   },
   "outputs": [],
   "source": [
    "# Create 'am_rush' col\n",
    "df3['am_rush'] = df3['tpep_pickup_datetime'].dt.hour\n",
    "\n",
    "# Create 'daytime' col\n",
    "df3['daytime'] = df3['tpep_pickup_datetime'].dt.hour\n",
    "\n",
    "# Create 'pm_rush' col\n",
    "df3['pm_rush'] = df3['tpep_pickup_datetime'].dt.hour\n",
    "\n",
    "# Create 'nighttime' col\n",
    "df3['nighttime'] = df3['tpep_pickup_datetime'].dt.hour"
   ]
  },
  {
   "cell_type": "code",
   "execution_count": 17,
   "id": "269ba146",
   "metadata": {
    "execution": {
     "iopub.execute_input": "2023-12-13T08:24:45.134803Z",
     "iopub.status.busy": "2023-12-13T08:24:45.133918Z",
     "iopub.status.idle": "2023-12-13T08:24:45.141745Z",
     "shell.execute_reply": "2023-12-13T08:24:45.140348Z"
    },
    "papermill": {
     "duration": 0.041701,
     "end_time": "2023-12-13T08:24:45.144542",
     "exception": false,
     "start_time": "2023-12-13T08:24:45.102841",
     "status": "completed"
    },
    "tags": []
   },
   "outputs": [],
   "source": [
    "# Define 'am_rush()' conversion function [06:00–10:00)\n",
    "def am_rush(hour):\n",
    "    if 6 <= hour['am_rush'] < 10:\n",
    "        val = 1\n",
    "    else:\n",
    "        val = 0\n",
    "    return val"
   ]
  },
  {
   "cell_type": "code",
   "execution_count": 18,
   "id": "33c74aa2",
   "metadata": {
    "execution": {
     "iopub.execute_input": "2023-12-13T08:24:45.206533Z",
     "iopub.status.busy": "2023-12-13T08:24:45.205406Z",
     "iopub.status.idle": "2023-12-13T08:24:45.480956Z",
     "shell.execute_reply": "2023-12-13T08:24:45.479726Z"
    },
    "papermill": {
     "duration": 0.307237,
     "end_time": "2023-12-13T08:24:45.483606",
     "exception": false,
     "start_time": "2023-12-13T08:24:45.176369",
     "status": "completed"
    },
    "tags": []
   },
   "outputs": [
    {
     "data": {
      "text/plain": [
       "0    1\n",
       "1    0\n",
       "2    1\n",
       "3    0\n",
       "5    0\n",
       "Name: am_rush, dtype: int64"
      ]
     },
     "execution_count": 18,
     "metadata": {},
     "output_type": "execute_result"
    }
   ],
   "source": [
    "# Apply 'am_rush' function to the 'am_rush' series\n",
    "df3['am_rush'] = df3.apply(am_rush, axis=1)\n",
    "df3['am_rush'].head()"
   ]
  },
  {
   "cell_type": "code",
   "execution_count": 19,
   "id": "0abe2e46",
   "metadata": {
    "execution": {
     "iopub.execute_input": "2023-12-13T08:24:45.536128Z",
     "iopub.status.busy": "2023-12-13T08:24:45.535707Z",
     "iopub.status.idle": "2023-12-13T08:24:45.810347Z",
     "shell.execute_reply": "2023-12-13T08:24:45.808981Z"
    },
    "papermill": {
     "duration": 0.304057,
     "end_time": "2023-12-13T08:24:45.813813",
     "exception": false,
     "start_time": "2023-12-13T08:24:45.509756",
     "status": "completed"
    },
    "tags": []
   },
   "outputs": [],
   "source": [
    "# Define 'daytime()' conversion function [10:00–16:00)\n",
    "def daytime(hour):\n",
    "    if 10 <= hour['daytime'] < 16:\n",
    "        val = 1\n",
    "    else:\n",
    "        val = 0\n",
    "    return val\n",
    "\n",
    "# Apply 'daytime' function to the 'daytime' series\n",
    "df3['daytime'] = df3.apply(daytime, axis=1)"
   ]
  },
  {
   "cell_type": "code",
   "execution_count": 20,
   "id": "a9c9e5a8",
   "metadata": {
    "execution": {
     "iopub.execute_input": "2023-12-13T08:24:45.868069Z",
     "iopub.status.busy": "2023-12-13T08:24:45.867663Z",
     "iopub.status.idle": "2023-12-13T08:24:46.235127Z",
     "shell.execute_reply": "2023-12-13T08:24:46.233790Z"
    },
    "papermill": {
     "duration": 0.396961,
     "end_time": "2023-12-13T08:24:46.238106",
     "exception": false,
     "start_time": "2023-12-13T08:24:45.841145",
     "status": "completed"
    },
    "tags": []
   },
   "outputs": [],
   "source": [
    "# Define 'pm_rush()' conversion function [16:00–20:00)\n",
    "def pm_rush(hour):\n",
    "    if 16 <= hour['pm_rush'] < 20:\n",
    "        val = 1\n",
    "    else:\n",
    "        val = 0\n",
    "    return val\n",
    "# Apply 'pm_rush' function to the 'pm_rush' series\n",
    "df3['pm_rush'] = df3.apply(pm_rush, axis=1)"
   ]
  },
  {
   "cell_type": "code",
   "execution_count": 21,
   "id": "8a7a13e1",
   "metadata": {
    "execution": {
     "iopub.execute_input": "2023-12-13T08:24:46.288737Z",
     "iopub.status.busy": "2023-12-13T08:24:46.288250Z",
     "iopub.status.idle": "2023-12-13T08:24:46.611226Z",
     "shell.execute_reply": "2023-12-13T08:24:46.609853Z"
    },
    "papermill": {
     "duration": 0.352098,
     "end_time": "2023-12-13T08:24:46.614285",
     "exception": false,
     "start_time": "2023-12-13T08:24:46.262187",
     "status": "completed"
    },
    "tags": []
   },
   "outputs": [],
   "source": [
    "# Define 'nighttime()' conversion function [20:00–06:00)\n",
    "def nighttime(hour):\n",
    "    if 20 <= hour['nighttime'] < 24:\n",
    "        val = 1\n",
    "    elif 0 <= hour['nighttime'] < 6:\n",
    "        val = 1\n",
    "    else:\n",
    "        val = 0\n",
    "    return val\n",
    "\n",
    "# Apply 'nighttime' function to the 'nighttime' series\n",
    "df3['nighttime'] = df3.apply(nighttime, axis=1)"
   ]
  },
  {
   "cell_type": "code",
   "execution_count": 22,
   "id": "a9cee144",
   "metadata": {
    "execution": {
     "iopub.execute_input": "2023-12-13T08:24:46.670741Z",
     "iopub.status.busy": "2023-12-13T08:24:46.670244Z",
     "iopub.status.idle": "2023-12-13T08:24:46.811713Z",
     "shell.execute_reply": "2023-12-13T08:24:46.810353Z"
    },
    "papermill": {
     "duration": 0.17351,
     "end_time": "2023-12-13T08:24:46.814551",
     "exception": false,
     "start_time": "2023-12-13T08:24:46.641041",
     "status": "completed"
    },
    "tags": []
   },
   "outputs": [],
   "source": [
    "# Create 'month' col\n",
    "df3['month'] = df3['tpep_pickup_datetime'].dt.strftime('%b').str.lower()"
   ]
  },
  {
   "cell_type": "code",
   "execution_count": 23,
   "id": "32605e0e",
   "metadata": {
    "execution": {
     "iopub.execute_input": "2023-12-13T08:24:46.871193Z",
     "iopub.status.busy": "2023-12-13T08:24:46.870702Z",
     "iopub.status.idle": "2023-12-13T08:24:46.907108Z",
     "shell.execute_reply": "2023-12-13T08:24:46.905882Z"
    },
    "papermill": {
     "duration": 0.067915,
     "end_time": "2023-12-13T08:24:46.911147",
     "exception": false,
     "start_time": "2023-12-13T08:24:46.843232",
     "status": "completed"
    },
    "tags": []
   },
   "outputs": [
    {
     "data": {
      "text/html": [
       "<div>\n",
       "<style scoped>\n",
       "    .dataframe tbody tr th:only-of-type {\n",
       "        vertical-align: middle;\n",
       "    }\n",
       "\n",
       "    .dataframe tbody tr th {\n",
       "        vertical-align: top;\n",
       "    }\n",
       "\n",
       "    .dataframe thead th {\n",
       "        text-align: right;\n",
       "    }\n",
       "</style>\n",
       "<table border=\"1\" class=\"dataframe\">\n",
       "  <thead>\n",
       "    <tr style=\"text-align: right;\">\n",
       "      <th></th>\n",
       "      <th>Unnamed: 0</th>\n",
       "      <th>VendorID</th>\n",
       "      <th>tpep_pickup_datetime</th>\n",
       "      <th>tpep_dropoff_datetime</th>\n",
       "      <th>passenger_count</th>\n",
       "      <th>trip_distance</th>\n",
       "      <th>RatecodeID</th>\n",
       "      <th>store_and_fwd_flag</th>\n",
       "      <th>PULocationID</th>\n",
       "      <th>DOLocationID</th>\n",
       "      <th>payment_type</th>\n",
       "      <th>fare_amount</th>\n",
       "      <th>extra</th>\n",
       "      <th>mta_tax</th>\n",
       "      <th>tip_amount</th>\n",
       "      <th>tolls_amount</th>\n",
       "      <th>improvement_surcharge</th>\n",
       "      <th>total_amount</th>\n",
       "      <th>mean_duration</th>\n",
       "      <th>mean_distance</th>\n",
       "      <th>predicted_fare</th>\n",
       "      <th>tip_percent</th>\n",
       "      <th>generous</th>\n",
       "      <th>day</th>\n",
       "      <th>am_rush</th>\n",
       "      <th>daytime</th>\n",
       "      <th>pm_rush</th>\n",
       "      <th>nighttime</th>\n",
       "      <th>month</th>\n",
       "    </tr>\n",
       "  </thead>\n",
       "  <tbody>\n",
       "    <tr>\n",
       "      <th>0</th>\n",
       "      <td>24870114</td>\n",
       "      <td>2</td>\n",
       "      <td>2017-03-25 08:55:43</td>\n",
       "      <td>2017-03-25 09:09:47</td>\n",
       "      <td>6</td>\n",
       "      <td>3.34</td>\n",
       "      <td>1</td>\n",
       "      <td>N</td>\n",
       "      <td>100</td>\n",
       "      <td>231</td>\n",
       "      <td>1</td>\n",
       "      <td>13.0</td>\n",
       "      <td>0.0</td>\n",
       "      <td>0.5</td>\n",
       "      <td>2.76</td>\n",
       "      <td>0.0</td>\n",
       "      <td>0.3</td>\n",
       "      <td>16.56</td>\n",
       "      <td>22.847222</td>\n",
       "      <td>3.521667</td>\n",
       "      <td>16.434245</td>\n",
       "      <td>0.200</td>\n",
       "      <td>1</td>\n",
       "      <td>saturday</td>\n",
       "      <td>1</td>\n",
       "      <td>0</td>\n",
       "      <td>0</td>\n",
       "      <td>0</td>\n",
       "      <td>mar</td>\n",
       "    </tr>\n",
       "    <tr>\n",
       "      <th>1</th>\n",
       "      <td>35634249</td>\n",
       "      <td>1</td>\n",
       "      <td>2017-04-11 14:53:28</td>\n",
       "      <td>2017-04-11 15:19:58</td>\n",
       "      <td>1</td>\n",
       "      <td>1.80</td>\n",
       "      <td>1</td>\n",
       "      <td>N</td>\n",
       "      <td>186</td>\n",
       "      <td>43</td>\n",
       "      <td>1</td>\n",
       "      <td>16.0</td>\n",
       "      <td>0.0</td>\n",
       "      <td>0.5</td>\n",
       "      <td>4.00</td>\n",
       "      <td>0.0</td>\n",
       "      <td>0.3</td>\n",
       "      <td>20.80</td>\n",
       "      <td>24.470370</td>\n",
       "      <td>3.108889</td>\n",
       "      <td>16.052218</td>\n",
       "      <td>0.238</td>\n",
       "      <td>1</td>\n",
       "      <td>tuesday</td>\n",
       "      <td>0</td>\n",
       "      <td>1</td>\n",
       "      <td>0</td>\n",
       "      <td>0</td>\n",
       "      <td>apr</td>\n",
       "    </tr>\n",
       "    <tr>\n",
       "      <th>2</th>\n",
       "      <td>106203690</td>\n",
       "      <td>1</td>\n",
       "      <td>2017-12-15 07:26:56</td>\n",
       "      <td>2017-12-15 07:34:08</td>\n",
       "      <td>1</td>\n",
       "      <td>1.00</td>\n",
       "      <td>1</td>\n",
       "      <td>N</td>\n",
       "      <td>262</td>\n",
       "      <td>236</td>\n",
       "      <td>1</td>\n",
       "      <td>6.5</td>\n",
       "      <td>0.0</td>\n",
       "      <td>0.5</td>\n",
       "      <td>1.45</td>\n",
       "      <td>0.0</td>\n",
       "      <td>0.3</td>\n",
       "      <td>8.75</td>\n",
       "      <td>7.250000</td>\n",
       "      <td>0.881429</td>\n",
       "      <td>7.053706</td>\n",
       "      <td>0.199</td>\n",
       "      <td>0</td>\n",
       "      <td>friday</td>\n",
       "      <td>1</td>\n",
       "      <td>0</td>\n",
       "      <td>0</td>\n",
       "      <td>0</td>\n",
       "      <td>dec</td>\n",
       "    </tr>\n",
       "    <tr>\n",
       "      <th>3</th>\n",
       "      <td>38942136</td>\n",
       "      <td>2</td>\n",
       "      <td>2017-05-07 13:17:59</td>\n",
       "      <td>2017-05-07 13:48:14</td>\n",
       "      <td>1</td>\n",
       "      <td>3.70</td>\n",
       "      <td>1</td>\n",
       "      <td>N</td>\n",
       "      <td>188</td>\n",
       "      <td>97</td>\n",
       "      <td>1</td>\n",
       "      <td>20.5</td>\n",
       "      <td>0.0</td>\n",
       "      <td>0.5</td>\n",
       "      <td>6.39</td>\n",
       "      <td>0.0</td>\n",
       "      <td>0.3</td>\n",
       "      <td>27.69</td>\n",
       "      <td>30.250000</td>\n",
       "      <td>3.700000</td>\n",
       "      <td>18.731650</td>\n",
       "      <td>0.300</td>\n",
       "      <td>1</td>\n",
       "      <td>sunday</td>\n",
       "      <td>0</td>\n",
       "      <td>1</td>\n",
       "      <td>0</td>\n",
       "      <td>0</td>\n",
       "      <td>may</td>\n",
       "    </tr>\n",
       "    <tr>\n",
       "      <th>5</th>\n",
       "      <td>23345809</td>\n",
       "      <td>2</td>\n",
       "      <td>2017-03-25 20:34:11</td>\n",
       "      <td>2017-03-25 20:42:11</td>\n",
       "      <td>6</td>\n",
       "      <td>2.30</td>\n",
       "      <td>1</td>\n",
       "      <td>N</td>\n",
       "      <td>161</td>\n",
       "      <td>236</td>\n",
       "      <td>1</td>\n",
       "      <td>9.0</td>\n",
       "      <td>0.5</td>\n",
       "      <td>0.5</td>\n",
       "      <td>2.06</td>\n",
       "      <td>0.0</td>\n",
       "      <td>0.3</td>\n",
       "      <td>12.36</td>\n",
       "      <td>11.855376</td>\n",
       "      <td>2.052258</td>\n",
       "      <td>10.441351</td>\n",
       "      <td>0.200</td>\n",
       "      <td>1</td>\n",
       "      <td>saturday</td>\n",
       "      <td>0</td>\n",
       "      <td>0</td>\n",
       "      <td>0</td>\n",
       "      <td>1</td>\n",
       "      <td>mar</td>\n",
       "    </tr>\n",
       "  </tbody>\n",
       "</table>\n",
       "</div>"
      ],
      "text/plain": [
       "   Unnamed: 0  VendorID tpep_pickup_datetime tpep_dropoff_datetime  \\\n",
       "0    24870114         2  2017-03-25 08:55:43   2017-03-25 09:09:47   \n",
       "1    35634249         1  2017-04-11 14:53:28   2017-04-11 15:19:58   \n",
       "2   106203690         1  2017-12-15 07:26:56   2017-12-15 07:34:08   \n",
       "3    38942136         2  2017-05-07 13:17:59   2017-05-07 13:48:14   \n",
       "5    23345809         2  2017-03-25 20:34:11   2017-03-25 20:42:11   \n",
       "\n",
       "   passenger_count  trip_distance  RatecodeID store_and_fwd_flag  \\\n",
       "0                6           3.34           1                  N   \n",
       "1                1           1.80           1                  N   \n",
       "2                1           1.00           1                  N   \n",
       "3                1           3.70           1                  N   \n",
       "5                6           2.30           1                  N   \n",
       "\n",
       "   PULocationID  DOLocationID  payment_type  fare_amount  extra  mta_tax  \\\n",
       "0           100           231             1         13.0    0.0      0.5   \n",
       "1           186            43             1         16.0    0.0      0.5   \n",
       "2           262           236             1          6.5    0.0      0.5   \n",
       "3           188            97             1         20.5    0.0      0.5   \n",
       "5           161           236             1          9.0    0.5      0.5   \n",
       "\n",
       "   tip_amount  tolls_amount  improvement_surcharge  total_amount  \\\n",
       "0        2.76           0.0                    0.3         16.56   \n",
       "1        4.00           0.0                    0.3         20.80   \n",
       "2        1.45           0.0                    0.3          8.75   \n",
       "3        6.39           0.0                    0.3         27.69   \n",
       "5        2.06           0.0                    0.3         12.36   \n",
       "\n",
       "   mean_duration  mean_distance  predicted_fare  tip_percent  generous  \\\n",
       "0      22.847222       3.521667       16.434245        0.200         1   \n",
       "1      24.470370       3.108889       16.052218        0.238         1   \n",
       "2       7.250000       0.881429        7.053706        0.199         0   \n",
       "3      30.250000       3.700000       18.731650        0.300         1   \n",
       "5      11.855376       2.052258       10.441351        0.200         1   \n",
       "\n",
       "        day  am_rush  daytime  pm_rush  nighttime month  \n",
       "0  saturday        1        0        0          0   mar  \n",
       "1   tuesday        0        1        0          0   apr  \n",
       "2    friday        1        0        0          0   dec  \n",
       "3    sunday        0        1        0          0   may  \n",
       "5  saturday        0        0        0          1   mar  "
      ]
     },
     "execution_count": 23,
     "metadata": {},
     "output_type": "execute_result"
    }
   ],
   "source": [
    "df3.head()"
   ]
  },
  {
   "cell_type": "code",
   "execution_count": 24,
   "id": "643a7870",
   "metadata": {
    "execution": {
     "iopub.execute_input": "2023-12-13T08:24:46.966808Z",
     "iopub.status.busy": "2023-12-13T08:24:46.966323Z",
     "iopub.status.idle": "2023-12-13T08:24:46.991872Z",
     "shell.execute_reply": "2023-12-13T08:24:46.990560Z"
    },
    "papermill": {
     "duration": 0.056398,
     "end_time": "2023-12-13T08:24:46.994876",
     "exception": false,
     "start_time": "2023-12-13T08:24:46.938478",
     "status": "completed"
    },
    "tags": []
   },
   "outputs": [
    {
     "name": "stdout",
     "output_type": "stream",
     "text": [
      "<class 'pandas.core.frame.DataFrame'>\n",
      "Index: 15265 entries, 0 to 22698\n",
      "Data columns (total 29 columns):\n",
      " #   Column                 Non-Null Count  Dtype         \n",
      "---  ------                 --------------  -----         \n",
      " 0   Unnamed: 0             15265 non-null  int64         \n",
      " 1   VendorID               15265 non-null  int64         \n",
      " 2   tpep_pickup_datetime   15265 non-null  datetime64[ns]\n",
      " 3   tpep_dropoff_datetime  15265 non-null  datetime64[ns]\n",
      " 4   passenger_count        15265 non-null  int64         \n",
      " 5   trip_distance          15265 non-null  float64       \n",
      " 6   RatecodeID             15265 non-null  int64         \n",
      " 7   store_and_fwd_flag     15265 non-null  object        \n",
      " 8   PULocationID           15265 non-null  int64         \n",
      " 9   DOLocationID           15265 non-null  int64         \n",
      " 10  payment_type           15265 non-null  int64         \n",
      " 11  fare_amount            15265 non-null  float64       \n",
      " 12  extra                  15265 non-null  float64       \n",
      " 13  mta_tax                15265 non-null  float64       \n",
      " 14  tip_amount             15265 non-null  float64       \n",
      " 15  tolls_amount           15265 non-null  float64       \n",
      " 16  improvement_surcharge  15265 non-null  float64       \n",
      " 17  total_amount           15265 non-null  float64       \n",
      " 18  mean_duration          15265 non-null  float64       \n",
      " 19  mean_distance          15265 non-null  float64       \n",
      " 20  predicted_fare         15265 non-null  float64       \n",
      " 21  tip_percent            15262 non-null  float64       \n",
      " 22  generous               15265 non-null  int64         \n",
      " 23  day                    15265 non-null  object        \n",
      " 24  am_rush                15265 non-null  int64         \n",
      " 25  daytime                15265 non-null  int64         \n",
      " 26  pm_rush                15265 non-null  int64         \n",
      " 27  nighttime              15265 non-null  int64         \n",
      " 28  month                  15265 non-null  object        \n",
      "dtypes: datetime64[ns](2), float64(12), int64(12), object(3)\n",
      "memory usage: 3.5+ MB\n"
     ]
    }
   ],
   "source": [
    "df3.info()"
   ]
  },
  {
   "cell_type": "markdown",
   "id": "e52c8c71",
   "metadata": {
    "papermill": {
     "duration": 0.026607,
     "end_time": "2023-12-13T08:24:47.047580",
     "exception": false,
     "start_time": "2023-12-13T08:24:47.020973",
     "status": "completed"
    },
    "tags": []
   },
   "source": [
    "**Drop columns¶**\n",
    "\n",
    "Drop redundant and irrelevant columns as well as those that would not be available when the model is deployed. This includes information like payment type, trip distance, tip amount, tip percentage, total amount, toll amount, etc. The target variable (generous) must remain in the data because it will get isolated as the y data for modeling"
   ]
  },
  {
   "cell_type": "code",
   "execution_count": 25,
   "id": "830b5de8",
   "metadata": {
    "execution": {
     "iopub.execute_input": "2023-12-13T08:24:47.105696Z",
     "iopub.status.busy": "2023-12-13T08:24:47.105169Z",
     "iopub.status.idle": "2023-12-13T08:24:47.129799Z",
     "shell.execute_reply": "2023-12-13T08:24:47.128250Z"
    },
    "papermill": {
     "duration": 0.058199,
     "end_time": "2023-12-13T08:24:47.132724",
     "exception": false,
     "start_time": "2023-12-13T08:24:47.074525",
     "status": "completed"
    },
    "tags": []
   },
   "outputs": [
    {
     "name": "stdout",
     "output_type": "stream",
     "text": [
      "<class 'pandas.core.frame.DataFrame'>\n",
      "Index: 15265 entries, 0 to 22698\n",
      "Data columns (total 15 columns):\n",
      " #   Column           Non-Null Count  Dtype  \n",
      "---  ------           --------------  -----  \n",
      " 0   VendorID         15265 non-null  int64  \n",
      " 1   passenger_count  15265 non-null  int64  \n",
      " 2   RatecodeID       15265 non-null  int64  \n",
      " 3   PULocationID     15265 non-null  int64  \n",
      " 4   DOLocationID     15265 non-null  int64  \n",
      " 5   mean_duration    15265 non-null  float64\n",
      " 6   mean_distance    15265 non-null  float64\n",
      " 7   predicted_fare   15265 non-null  float64\n",
      " 8   generous         15265 non-null  int64  \n",
      " 9   day              15265 non-null  object \n",
      " 10  am_rush          15265 non-null  int64  \n",
      " 11  daytime          15265 non-null  int64  \n",
      " 12  pm_rush          15265 non-null  int64  \n",
      " 13  nighttime        15265 non-null  int64  \n",
      " 14  month            15265 non-null  object \n",
      "dtypes: float64(3), int64(10), object(2)\n",
      "memory usage: 1.9+ MB\n"
     ]
    }
   ],
   "source": [
    "# Drop columns\n",
    "drop_cols = ['Unnamed: 0', 'tpep_pickup_datetime', 'tpep_dropoff_datetime',\n",
    "             'payment_type', 'trip_distance', 'store_and_fwd_flag', 'payment_type',\n",
    "             'fare_amount', 'extra', 'mta_tax', 'tip_amount', 'tolls_amount',\n",
    "             'improvement_surcharge', 'total_amount', 'tip_percent']\n",
    "\n",
    "df3 = df3.drop(drop_cols, axis=1)\n",
    "df3.info()"
   ]
  },
  {
   "cell_type": "markdown",
   "id": "68af1307",
   "metadata": {
    "papermill": {
     "duration": 0.025759,
     "end_time": "2023-12-13T08:24:47.185250",
     "exception": false,
     "start_time": "2023-12-13T08:24:47.159491",
     "status": "completed"
    },
    "tags": []
   },
   "source": [
    "**Variable encoding**\n",
    "\n",
    "Many of the columns are categorical and will need to be dummied (converted to binary). Some of these columns are numeric, but they actually encode categorical information, such as RatecodeID and the pickup and dropoff locations. To make these columns recognizable to the get_dummies() function as categorical variables, you'll first need to convert them to type(str).\n",
    "\n",
    "Define a variable called cols_to_str, which is a list of the numeric columns that contain categorical information and must be converted to string: RatecodeID, PULocationID, DOLocationID.\n",
    "Write a for loop that converts each column in cols_to_str to string."
   ]
  },
  {
   "cell_type": "code",
   "execution_count": 26,
   "id": "fdcf63ee",
   "metadata": {
    "execution": {
     "iopub.execute_input": "2023-12-13T08:24:47.240502Z",
     "iopub.status.busy": "2023-12-13T08:24:47.239280Z",
     "iopub.status.idle": "2023-12-13T08:24:47.292175Z",
     "shell.execute_reply": "2023-12-13T08:24:47.291161Z"
    },
    "papermill": {
     "duration": 0.082031,
     "end_time": "2023-12-13T08:24:47.294895",
     "exception": false,
     "start_time": "2023-12-13T08:24:47.212864",
     "status": "completed"
    },
    "tags": []
   },
   "outputs": [],
   "source": [
    "# 1. Define list of cols to convert to string\n",
    "cols_to_str = ['RatecodeID', 'PULocationID', 'DOLocationID', 'VendorID']\n",
    "\n",
    "# 2. Convert each column to string\n",
    "for col in cols_to_str:\n",
    "    df3[col] = df3[col].astype('str')"
   ]
  },
  {
   "cell_type": "code",
   "execution_count": 27,
   "id": "92d89e70",
   "metadata": {
    "execution": {
     "iopub.execute_input": "2023-12-13T08:24:47.351003Z",
     "iopub.status.busy": "2023-12-13T08:24:47.350587Z",
     "iopub.status.idle": "2023-12-13T08:24:47.461159Z",
     "shell.execute_reply": "2023-12-13T08:24:47.459577Z"
    },
    "papermill": {
     "duration": 0.14164,
     "end_time": "2023-12-13T08:24:47.464629",
     "exception": false,
     "start_time": "2023-12-13T08:24:47.322989",
     "status": "completed"
    },
    "tags": []
   },
   "outputs": [
    {
     "name": "stdout",
     "output_type": "stream",
     "text": [
      "<class 'pandas.core.frame.DataFrame'>\n",
      "Index: 15265 entries, 0 to 22698\n",
      "Columns: 347 entries, passenger_count to month_sep\n",
      "dtypes: bool(338), float64(3), int64(6)\n",
      "memory usage: 6.1 MB\n"
     ]
    }
   ],
   "source": [
    "# Convert categoricals to binary\n",
    "df4 = pd.get_dummies(df3, drop_first=True)\n",
    "df4.info()"
   ]
  },
  {
   "cell_type": "code",
   "execution_count": 28,
   "id": "e067ff91",
   "metadata": {
    "execution": {
     "iopub.execute_input": "2023-12-13T08:24:47.525141Z",
     "iopub.status.busy": "2023-12-13T08:24:47.524671Z",
     "iopub.status.idle": "2023-12-13T08:24:47.535928Z",
     "shell.execute_reply": "2023-12-13T08:24:47.534869Z"
    },
    "papermill": {
     "duration": 0.044703,
     "end_time": "2023-12-13T08:24:47.538825",
     "exception": false,
     "start_time": "2023-12-13T08:24:47.494122",
     "status": "completed"
    },
    "tags": []
   },
   "outputs": [
    {
     "data": {
      "text/plain": [
       "generous\n",
       "1    0.526368\n",
       "0    0.473632\n",
       "Name: proportion, dtype: float64"
      ]
     },
     "execution_count": 28,
     "metadata": {},
     "output_type": "execute_result"
    }
   ],
   "source": [
    "# Get class balance of 'generous' col\n",
    "df4['generous'].value_counts(normalize=True)"
   ]
  },
  {
   "cell_type": "markdown",
   "id": "28b6c86e",
   "metadata": {
    "papermill": {
     "duration": 0.025101,
     "end_time": "2023-12-13T08:24:47.590686",
     "exception": false,
     "start_time": "2023-12-13T08:24:47.565585",
     "status": "completed"
    },
    "tags": []
   },
   "source": [
    "A little over half of the customers in this dataset were \"generous\" (tipped ≥ 20%). The dataset is very nearly balanced.\n",
    "\n",
    "To determine a metric, consider the cost of both kinds of model error:\n",
    "\n",
    "* False positives (the model predicts a tip ≥ 20%, but the customer does not give one)\n",
    "* False negatives (the model predicts a tip < 20%, but the customer gives more)\n",
    "False positives are worse for cab drivers, because they would pick up a customer expecting a good tip and then not receive one, frustrating the driver.\n",
    "\n",
    "False negatives are worse for customers, because a cab driver would likely pick up a different customer who was predicted to tip more—even when the original customer would have tipped generously."
   ]
  },
  {
   "cell_type": "markdown",
   "id": "b347b71d",
   "metadata": {
    "papermill": {
     "duration": 0.028203,
     "end_time": "2023-12-13T08:24:47.645819",
     "exception": false,
     "start_time": "2023-12-13T08:24:47.617616",
     "status": "completed"
    },
    "tags": []
   },
   "source": [
    "**F1 score is the metric that places equal weight on true postives and false positives, and so therefore on precision and recall.**"
   ]
  },
  {
   "cell_type": "markdown",
   "id": "6393b9f4",
   "metadata": {
    "papermill": {
     "duration": 0.027047,
     "end_time": "2023-12-13T08:24:47.699603",
     "exception": false,
     "start_time": "2023-12-13T08:24:47.672556",
     "status": "completed"
    },
    "tags": []
   },
   "source": [
    "# **Construct**\n",
    "\n",
    "**Task 3. Modeling**"
   ]
  },
  {
   "cell_type": "markdown",
   "id": "9523061d",
   "metadata": {
    "papermill": {
     "duration": 0.026001,
     "end_time": "2023-12-13T08:24:47.754388",
     "exception": false,
     "start_time": "2023-12-13T08:24:47.728387",
     "status": "completed"
    },
    "tags": []
   },
   "source": [
    "Split the data\n",
    "Now we're ready to model. The only remaining step is to split the data into features/target variable and training/testing data.\n",
    "\n",
    "1. Define a variable y that isolates the target variable (generous).\n",
    "2. Define a variable X that isolates the features.\n",
    "3. Split the data into training and testing sets. Put 20% of the samples into the test set, stratify the data, and set the random state."
   ]
  },
  {
   "cell_type": "code",
   "execution_count": 29,
   "id": "12b97733",
   "metadata": {
    "execution": {
     "iopub.execute_input": "2023-12-13T08:24:47.812248Z",
     "iopub.status.busy": "2023-12-13T08:24:47.811840Z",
     "iopub.status.idle": "2023-12-13T08:24:47.851878Z",
     "shell.execute_reply": "2023-12-13T08:24:47.850743Z"
    },
    "papermill": {
     "duration": 0.073139,
     "end_time": "2023-12-13T08:24:47.854808",
     "exception": false,
     "start_time": "2023-12-13T08:24:47.781669",
     "status": "completed"
    },
    "tags": []
   },
   "outputs": [],
   "source": [
    "# Isolate target variable (y)\n",
    "y = df4['generous']\n",
    "\n",
    "# Isolate the features (X)\n",
    "X = df4.drop('generous', axis=1)\n",
    "\n",
    "# Split into train and test sets\n",
    "X_train, X_test, y_train, y_test = train_test_split(X, y, stratify=y, test_size=0.2, random_state=42)"
   ]
  },
  {
   "cell_type": "markdown",
   "id": "ddf0ce9f",
   "metadata": {
    "papermill": {
     "duration": 0.024981,
     "end_time": "2023-12-13T08:24:47.906280",
     "exception": false,
     "start_time": "2023-12-13T08:24:47.881299",
     "status": "completed"
    },
    "tags": []
   },
   "source": [
    "**Random forest**\n",
    "\n",
    "Begin with using GridSearchCV to tune a random forest model. \n",
    "1. Instantiate the random forest classifier rf and set the random state. \n",
    "2. Create a dictionary cv_params of any of the following hyperparameters and their corresponding values to tune. The more you tune, the better your model will fit the data, but the longer it will take.\n",
    "*    max_depth\n",
    "*    max_features\n",
    "*    max_samples\n",
    "*    min_samples_leaf\n",
    "*    min_samples_split\n",
    "*    n_estimators\n",
    "3. Define a set scoring of scoring metrics for GridSearch to capture (precision, recall, F1 score, and accuracy). \n",
    "4. Instantiate the GridSearchCV object rf1. Pass to it as arguments: \n",
    "*    estimator=rf\n",
    "*    param_grid=cv_params\n",
    "*    scoring=scoring\n",
    "*    cv: define the number of you cross-validation folds you want (cv=_)\n",
    "*    refit: indicate which evaluation metric you want to use to select the model (refit=_)\n",
    "\n",
    "**Note:** refit should be set to 'f1'."
   ]
  },
  {
   "cell_type": "code",
   "execution_count": 30,
   "id": "2342263a",
   "metadata": {
    "execution": {
     "iopub.execute_input": "2023-12-13T08:24:47.964689Z",
     "iopub.status.busy": "2023-12-13T08:24:47.963380Z",
     "iopub.status.idle": "2023-12-13T08:24:47.971597Z",
     "shell.execute_reply": "2023-12-13T08:24:47.970525Z"
    },
    "papermill": {
     "duration": 0.040402,
     "end_time": "2023-12-13T08:24:47.974102",
     "exception": false,
     "start_time": "2023-12-13T08:24:47.933700",
     "status": "completed"
    },
    "tags": []
   },
   "outputs": [],
   "source": [
    "# 1. Instantiate the random forest classifier\n",
    "rf = RandomForestClassifier(random_state=42)\n",
    "\n",
    "# 2. Create a dictionary of hyperparameters to tune \n",
    "# Note that this example only contains 1 value for each parameter for simplicity,\n",
    "# but you should assign a dictionary with ranges of values\n",
    "cv_params = {'max_depth': [None],\n",
    "             'max_features': [1.0],\n",
    "             'max_samples': [0.7],\n",
    "             'min_samples_leaf': [1],\n",
    "             'min_samples_split': [2],\n",
    "             'n_estimators': [300]\n",
    "             }\n",
    "\n",
    "# 3. Define a set of scoring metrics to capture\n",
    "scoring = {'accuracy', 'precision', 'recall', 'f1'}\n",
    "\n",
    "# 4. Instantiate the GridSearchCV object\n",
    "rf1 = GridSearchCV(rf, cv_params, scoring=scoring, cv=4, refit='f1')"
   ]
  },
  {
   "cell_type": "markdown",
   "id": "1b6e5e16",
   "metadata": {
    "papermill": {
     "duration": 0.028498,
     "end_time": "2023-12-13T08:24:48.030547",
     "exception": false,
     "start_time": "2023-12-13T08:24:48.002049",
     "status": "completed"
    },
    "tags": []
   },
   "source": [
    "Now fit the model to the training data.\n",
    "\n",
    "**Note:** Depending on how many options you include in your search grid and the number of cross-validation folds you select, this could take a very long time—even hours. If you use 4-fold validation and include only one possible value for each hyperparameter and grow 300 trees to full depth, it should take about 5 minutes. If you add another value for GridSearch to check for, say, min_samples_split (so all hyperparameters now have 1 value except for min_samples_split, which has 2 possibilities), it would double the time to ~10 minutes. Each additional parameter would approximately double the time."
   ]
  },
  {
   "cell_type": "code",
   "execution_count": 31,
   "id": "61e2e6cd",
   "metadata": {
    "execution": {
     "iopub.execute_input": "2023-12-13T08:24:48.087122Z",
     "iopub.status.busy": "2023-12-13T08:24:48.086010Z",
     "iopub.status.idle": "2023-12-13T08:30:39.900585Z",
     "shell.execute_reply": "2023-12-13T08:30:39.899389Z"
    },
    "papermill": {
     "duration": 351.871757,
     "end_time": "2023-12-13T08:30:39.930030",
     "exception": false,
     "start_time": "2023-12-13T08:24:48.058273",
     "status": "completed"
    },
    "tags": []
   },
   "outputs": [
    {
     "name": "stdout",
     "output_type": "stream",
     "text": [
      "CPU times: user 5min 50s, sys: 243 ms, total: 5min 50s\n",
      "Wall time: 5min 51s\n"
     ]
    },
    {
     "data": {
      "text/html": [
       "<style>#sk-container-id-1 {color: black;background-color: white;}#sk-container-id-1 pre{padding: 0;}#sk-container-id-1 div.sk-toggleable {background-color: white;}#sk-container-id-1 label.sk-toggleable__label {cursor: pointer;display: block;width: 100%;margin-bottom: 0;padding: 0.3em;box-sizing: border-box;text-align: center;}#sk-container-id-1 label.sk-toggleable__label-arrow:before {content: \"▸\";float: left;margin-right: 0.25em;color: #696969;}#sk-container-id-1 label.sk-toggleable__label-arrow:hover:before {color: black;}#sk-container-id-1 div.sk-estimator:hover label.sk-toggleable__label-arrow:before {color: black;}#sk-container-id-1 div.sk-toggleable__content {max-height: 0;max-width: 0;overflow: hidden;text-align: left;background-color: #f0f8ff;}#sk-container-id-1 div.sk-toggleable__content pre {margin: 0.2em;color: black;border-radius: 0.25em;background-color: #f0f8ff;}#sk-container-id-1 input.sk-toggleable__control:checked~div.sk-toggleable__content {max-height: 200px;max-width: 100%;overflow: auto;}#sk-container-id-1 input.sk-toggleable__control:checked~label.sk-toggleable__label-arrow:before {content: \"▾\";}#sk-container-id-1 div.sk-estimator input.sk-toggleable__control:checked~label.sk-toggleable__label {background-color: #d4ebff;}#sk-container-id-1 div.sk-label input.sk-toggleable__control:checked~label.sk-toggleable__label {background-color: #d4ebff;}#sk-container-id-1 input.sk-hidden--visually {border: 0;clip: rect(1px 1px 1px 1px);clip: rect(1px, 1px, 1px, 1px);height: 1px;margin: -1px;overflow: hidden;padding: 0;position: absolute;width: 1px;}#sk-container-id-1 div.sk-estimator {font-family: monospace;background-color: #f0f8ff;border: 1px dotted black;border-radius: 0.25em;box-sizing: border-box;margin-bottom: 0.5em;}#sk-container-id-1 div.sk-estimator:hover {background-color: #d4ebff;}#sk-container-id-1 div.sk-parallel-item::after {content: \"\";width: 100%;border-bottom: 1px solid gray;flex-grow: 1;}#sk-container-id-1 div.sk-label:hover label.sk-toggleable__label {background-color: #d4ebff;}#sk-container-id-1 div.sk-serial::before {content: \"\";position: absolute;border-left: 1px solid gray;box-sizing: border-box;top: 0;bottom: 0;left: 50%;z-index: 0;}#sk-container-id-1 div.sk-serial {display: flex;flex-direction: column;align-items: center;background-color: white;padding-right: 0.2em;padding-left: 0.2em;position: relative;}#sk-container-id-1 div.sk-item {position: relative;z-index: 1;}#sk-container-id-1 div.sk-parallel {display: flex;align-items: stretch;justify-content: center;background-color: white;position: relative;}#sk-container-id-1 div.sk-item::before, #sk-container-id-1 div.sk-parallel-item::before {content: \"\";position: absolute;border-left: 1px solid gray;box-sizing: border-box;top: 0;bottom: 0;left: 50%;z-index: -1;}#sk-container-id-1 div.sk-parallel-item {display: flex;flex-direction: column;z-index: 1;position: relative;background-color: white;}#sk-container-id-1 div.sk-parallel-item:first-child::after {align-self: flex-end;width: 50%;}#sk-container-id-1 div.sk-parallel-item:last-child::after {align-self: flex-start;width: 50%;}#sk-container-id-1 div.sk-parallel-item:only-child::after {width: 0;}#sk-container-id-1 div.sk-dashed-wrapped {border: 1px dashed gray;margin: 0 0.4em 0.5em 0.4em;box-sizing: border-box;padding-bottom: 0.4em;background-color: white;}#sk-container-id-1 div.sk-label label {font-family: monospace;font-weight: bold;display: inline-block;line-height: 1.2em;}#sk-container-id-1 div.sk-label-container {text-align: center;}#sk-container-id-1 div.sk-container {/* jupyter's `normalize.less` sets `[hidden] { display: none; }` but bootstrap.min.css set `[hidden] { display: none !important; }` so we also need the `!important` here to be able to override the default hidden behavior on the sphinx rendered scikit-learn.org. See: https://github.com/scikit-learn/scikit-learn/issues/21755 */display: inline-block !important;position: relative;}#sk-container-id-1 div.sk-text-repr-fallback {display: none;}</style><div id=\"sk-container-id-1\" class=\"sk-top-container\"><div class=\"sk-text-repr-fallback\"><pre>GridSearchCV(cv=4, estimator=RandomForestClassifier(random_state=42),\n",
       "             param_grid={&#x27;max_depth&#x27;: [None], &#x27;max_features&#x27;: [1.0],\n",
       "                         &#x27;max_samples&#x27;: [0.7], &#x27;min_samples_leaf&#x27;: [1],\n",
       "                         &#x27;min_samples_split&#x27;: [2], &#x27;n_estimators&#x27;: [300]},\n",
       "             refit=&#x27;f1&#x27;, scoring={&#x27;precision&#x27;, &#x27;recall&#x27;, &#x27;accuracy&#x27;, &#x27;f1&#x27;})</pre><b>In a Jupyter environment, please rerun this cell to show the HTML representation or trust the notebook. <br />On GitHub, the HTML representation is unable to render, please try loading this page with nbviewer.org.</b></div><div class=\"sk-container\" hidden><div class=\"sk-item sk-dashed-wrapped\"><div class=\"sk-label-container\"><div class=\"sk-label sk-toggleable\"><input class=\"sk-toggleable__control sk-hidden--visually\" id=\"sk-estimator-id-1\" type=\"checkbox\" ><label for=\"sk-estimator-id-1\" class=\"sk-toggleable__label sk-toggleable__label-arrow\">GridSearchCV</label><div class=\"sk-toggleable__content\"><pre>GridSearchCV(cv=4, estimator=RandomForestClassifier(random_state=42),\n",
       "             param_grid={&#x27;max_depth&#x27;: [None], &#x27;max_features&#x27;: [1.0],\n",
       "                         &#x27;max_samples&#x27;: [0.7], &#x27;min_samples_leaf&#x27;: [1],\n",
       "                         &#x27;min_samples_split&#x27;: [2], &#x27;n_estimators&#x27;: [300]},\n",
       "             refit=&#x27;f1&#x27;, scoring={&#x27;precision&#x27;, &#x27;recall&#x27;, &#x27;accuracy&#x27;, &#x27;f1&#x27;})</pre></div></div></div><div class=\"sk-parallel\"><div class=\"sk-parallel-item\"><div class=\"sk-item\"><div class=\"sk-label-container\"><div class=\"sk-label sk-toggleable\"><input class=\"sk-toggleable__control sk-hidden--visually\" id=\"sk-estimator-id-2\" type=\"checkbox\" ><label for=\"sk-estimator-id-2\" class=\"sk-toggleable__label sk-toggleable__label-arrow\">estimator: RandomForestClassifier</label><div class=\"sk-toggleable__content\"><pre>RandomForestClassifier(random_state=42)</pre></div></div></div><div class=\"sk-serial\"><div class=\"sk-item\"><div class=\"sk-estimator sk-toggleable\"><input class=\"sk-toggleable__control sk-hidden--visually\" id=\"sk-estimator-id-3\" type=\"checkbox\" ><label for=\"sk-estimator-id-3\" class=\"sk-toggleable__label sk-toggleable__label-arrow\">RandomForestClassifier</label><div class=\"sk-toggleable__content\"><pre>RandomForestClassifier(random_state=42)</pre></div></div></div></div></div></div></div></div></div></div>"
      ],
      "text/plain": [
       "GridSearchCV(cv=4, estimator=RandomForestClassifier(random_state=42),\n",
       "             param_grid={'max_depth': [None], 'max_features': [1.0],\n",
       "                         'max_samples': [0.7], 'min_samples_leaf': [1],\n",
       "                         'min_samples_split': [2], 'n_estimators': [300]},\n",
       "             refit='f1', scoring={'precision', 'recall', 'accuracy', 'f1'})"
      ]
     },
     "execution_count": 31,
     "metadata": {},
     "output_type": "execute_result"
    }
   ],
   "source": [
    "%%time\n",
    "rf1.fit(X_train, y_train)"
   ]
  },
  {
   "cell_type": "code",
   "execution_count": 32,
   "id": "2e7fb014",
   "metadata": {
    "execution": {
     "iopub.execute_input": "2023-12-13T08:30:39.987655Z",
     "iopub.status.busy": "2023-12-13T08:30:39.986937Z",
     "iopub.status.idle": "2023-12-13T08:30:39.992224Z",
     "shell.execute_reply": "2023-12-13T08:30:39.991298Z"
    },
    "papermill": {
     "duration": 0.037099,
     "end_time": "2023-12-13T08:30:39.995296",
     "exception": false,
     "start_time": "2023-12-13T08:30:39.958197",
     "status": "completed"
    },
    "tags": []
   },
   "outputs": [],
   "source": [
    "import pickle \n",
    "\n",
    "# Define a path to the folder where you want to save the model\n",
    "path = '/kaggle/working/'"
   ]
  },
  {
   "cell_type": "code",
   "execution_count": 33,
   "id": "901e1b47",
   "metadata": {
    "execution": {
     "iopub.execute_input": "2023-12-13T08:30:40.052037Z",
     "iopub.status.busy": "2023-12-13T08:30:40.051613Z",
     "iopub.status.idle": "2023-12-13T08:30:40.058103Z",
     "shell.execute_reply": "2023-12-13T08:30:40.056854Z"
    },
    "papermill": {
     "duration": 0.03778,
     "end_time": "2023-12-13T08:30:40.060357",
     "exception": false,
     "start_time": "2023-12-13T08:30:40.022577",
     "status": "completed"
    },
    "tags": []
   },
   "outputs": [],
   "source": [
    "def write_pickle(path, model_object, save_name:str):\n",
    "    '''\n",
    "    save_name is a string.\n",
    "    '''\n",
    "    with open(path + save_name + '.pickle', 'wb') as to_write:\n",
    "        pickle.dump(model_object, to_write)"
   ]
  },
  {
   "cell_type": "code",
   "execution_count": 34,
   "id": "621d4015",
   "metadata": {
    "execution": {
     "iopub.execute_input": "2023-12-13T08:30:40.114797Z",
     "iopub.status.busy": "2023-12-13T08:30:40.114325Z",
     "iopub.status.idle": "2023-12-13T08:30:40.120982Z",
     "shell.execute_reply": "2023-12-13T08:30:40.119735Z"
    },
    "papermill": {
     "duration": 0.036901,
     "end_time": "2023-12-13T08:30:40.123595",
     "exception": false,
     "start_time": "2023-12-13T08:30:40.086694",
     "status": "completed"
    },
    "tags": []
   },
   "outputs": [],
   "source": [
    "def read_pickle(path, saved_model_name:str):\n",
    "    '''\n",
    "    saved_model_name is a string.\n",
    "    '''\n",
    "    with open(path + saved_model_name + '.pickle', 'rb') as to_read:\n",
    "        model = pickle.load(to_read)\n",
    "\n",
    "        return model"
   ]
  },
  {
   "cell_type": "code",
   "execution_count": 35,
   "id": "2201b3c2",
   "metadata": {
    "execution": {
     "iopub.execute_input": "2023-12-13T08:30:40.181358Z",
     "iopub.status.busy": "2023-12-13T08:30:40.180890Z",
     "iopub.status.idle": "2023-12-13T08:30:40.188006Z",
     "shell.execute_reply": "2023-12-13T08:30:40.187049Z"
    },
    "papermill": {
     "duration": 0.040408,
     "end_time": "2023-12-13T08:30:40.190312",
     "exception": false,
     "start_time": "2023-12-13T08:30:40.149904",
     "status": "completed"
    },
    "tags": []
   },
   "outputs": [
    {
     "data": {
      "text/plain": [
       "0.7136009788848705"
      ]
     },
     "execution_count": 35,
     "metadata": {},
     "output_type": "execute_result"
    }
   ],
   "source": [
    "#Examine the best average score across all the validation folds.\n",
    "# Examine best score\n",
    "rf1.best_score_"
   ]
  },
  {
   "cell_type": "code",
   "execution_count": 36,
   "id": "2b46805e",
   "metadata": {
    "execution": {
     "iopub.execute_input": "2023-12-13T08:30:40.251356Z",
     "iopub.status.busy": "2023-12-13T08:30:40.250020Z",
     "iopub.status.idle": "2023-12-13T08:30:40.257487Z",
     "shell.execute_reply": "2023-12-13T08:30:40.256518Z"
    },
    "papermill": {
     "duration": 0.039335,
     "end_time": "2023-12-13T08:30:40.259922",
     "exception": false,
     "start_time": "2023-12-13T08:30:40.220587",
     "status": "completed"
    },
    "tags": []
   },
   "outputs": [
    {
     "data": {
      "text/plain": [
       "{'max_depth': None,\n",
       " 'max_features': 1.0,\n",
       " 'max_samples': 0.7,\n",
       " 'min_samples_leaf': 1,\n",
       " 'min_samples_split': 2,\n",
       " 'n_estimators': 300}"
      ]
     },
     "execution_count": 36,
     "metadata": {},
     "output_type": "execute_result"
    }
   ],
   "source": [
    "#Examine the best combination of hyperparameters.\n",
    "rf1.best_params_"
   ]
  },
  {
   "cell_type": "code",
   "execution_count": 37,
   "id": "cf38d6d4",
   "metadata": {
    "execution": {
     "iopub.execute_input": "2023-12-13T08:30:40.315112Z",
     "iopub.status.busy": "2023-12-13T08:30:40.314294Z",
     "iopub.status.idle": "2023-12-13T08:30:40.323997Z",
     "shell.execute_reply": "2023-12-13T08:30:40.322868Z"
    },
    "papermill": {
     "duration": 0.041851,
     "end_time": "2023-12-13T08:30:40.328033",
     "exception": false,
     "start_time": "2023-12-13T08:30:40.286182",
     "status": "completed"
    },
    "tags": []
   },
   "outputs": [],
   "source": [
    "#Use the make_results() function to output all of the scores of your model. Note that it accepts three arguments.\n",
    "def make_results(model_name:str, model_object, metric:str):\n",
    "    '''\n",
    "    Arguments:\n",
    "    model_name (string): what you want the model to be called in the output table\n",
    "    model_object: a fit GridSearchCV object\n",
    "    metric (string): precision, recall, f1, or accuracy\n",
    "\n",
    "    Returns a pandas df with the F1, recall, precision, and accuracy scores\n",
    "    for the model with the best mean 'metric' score across all validation folds.\n",
    "    '''\n",
    "\n",
    "    # Create dictionary that maps input metric to actual metric name in GridSearchCV\n",
    "    metric_dict = {'precision': 'mean_test_precision',\n",
    "                 'recall': 'mean_test_recall',\n",
    "                 'f1': 'mean_test_f1',\n",
    "                 'accuracy': 'mean_test_accuracy',\n",
    "                 }\n",
    "\n",
    "    # Get all the results from the CV and put them in a df\n",
    "    cv_results = pd.DataFrame(model_object.cv_results_)\n",
    "\n",
    "    # Isolate the row of the df with the max(metric) score\n",
    "    best_estimator_results = cv_results.iloc[cv_results[metric_dict[metric]].idxmax(), :]\n",
    "\n",
    "    # Extract Accuracy, precision, recall, and f1 score from that row\n",
    "    f1 = best_estimator_results.mean_test_f1\n",
    "    recall = best_estimator_results.mean_test_recall\n",
    "    precision = best_estimator_results.mean_test_precision\n",
    "    accuracy = best_estimator_results.mean_test_accuracy\n",
    "\n",
    "    # Create table of results\n",
    "    table = pd.DataFrame({'model': [model_name],\n",
    "                        'precision': [precision],\n",
    "                        'recall': [recall],\n",
    "                        'F1': [f1],\n",
    "                        'accuracy': [accuracy],\n",
    "                        },\n",
    "                       )\n",
    "\n",
    "    return table"
   ]
  },
  {
   "cell_type": "code",
   "execution_count": 38,
   "id": "2f746081",
   "metadata": {
    "execution": {
     "iopub.execute_input": "2023-12-13T08:30:40.382897Z",
     "iopub.status.busy": "2023-12-13T08:30:40.382071Z",
     "iopub.status.idle": "2023-12-13T08:30:40.397776Z",
     "shell.execute_reply": "2023-12-13T08:30:40.396373Z"
    },
    "papermill": {
     "duration": 0.046038,
     "end_time": "2023-12-13T08:30:40.400300",
     "exception": false,
     "start_time": "2023-12-13T08:30:40.354262",
     "status": "completed"
    },
    "tags": []
   },
   "outputs": [
    {
     "data": {
      "text/html": [
       "<div>\n",
       "<style scoped>\n",
       "    .dataframe tbody tr th:only-of-type {\n",
       "        vertical-align: middle;\n",
       "    }\n",
       "\n",
       "    .dataframe tbody tr th {\n",
       "        vertical-align: top;\n",
       "    }\n",
       "\n",
       "    .dataframe thead th {\n",
       "        text-align: right;\n",
       "    }\n",
       "</style>\n",
       "<table border=\"1\" class=\"dataframe\">\n",
       "  <thead>\n",
       "    <tr style=\"text-align: right;\">\n",
       "      <th></th>\n",
       "      <th>model</th>\n",
       "      <th>precision</th>\n",
       "      <th>recall</th>\n",
       "      <th>F1</th>\n",
       "      <th>accuracy</th>\n",
       "    </tr>\n",
       "  </thead>\n",
       "  <tbody>\n",
       "    <tr>\n",
       "      <th>0</th>\n",
       "      <td>RF CV</td>\n",
       "      <td>0.674919</td>\n",
       "      <td>0.757312</td>\n",
       "      <td>0.713601</td>\n",
       "      <td>0.680233</td>\n",
       "    </tr>\n",
       "  </tbody>\n",
       "</table>\n",
       "</div>"
      ],
      "text/plain": [
       "   model  precision    recall        F1  accuracy\n",
       "0  RF CV   0.674919  0.757312  0.713601  0.680233"
      ]
     },
     "execution_count": 38,
     "metadata": {},
     "output_type": "execute_result"
    }
   ],
   "source": [
    "# Call 'make_results()' on the GridSearch object\n",
    "results = make_results('RF CV', rf1, 'f1')\n",
    "results"
   ]
  },
  {
   "cell_type": "markdown",
   "id": "26db6bba",
   "metadata": {
    "papermill": {
     "duration": 0.026384,
     "end_time": "2023-12-13T08:30:40.453333",
     "exception": false,
     "start_time": "2023-12-13T08:30:40.426949",
     "status": "completed"
    },
    "tags": []
   },
   "source": [
    "This is an acceptable model across the board. Typically scores of 0.65 or better are considered acceptable, but this is always dependent on your use case. Optional: try to improve the scores. It's worth trying, especially to practice searching over different hyperparameters.\n",
    "\n",
    "**For this project**, I will use several models to predict on the test data. Remember that this decision comes with a trade-off. What is the benefit of this? What is the drawback?\n",
    "\n",
    "**The benefit** of using multiple models to predict on the test data is that you can compare models using data that was not used to train/tune hyperparameters. This reduces the risk of selecting a model based on how well it fit the training data.\n",
    "\n",
    "**The drawback** of using the final test data to select a model is that, by using the unseen data to make a decision about which model to use, you no longer have a truly unbiased idea of how your model would be expected to perform on new data. In this case, think of final model selection as another way of \"tuning\" your model."
   ]
  },
  {
   "cell_type": "code",
   "execution_count": 39,
   "id": "81396db9",
   "metadata": {
    "execution": {
     "iopub.execute_input": "2023-12-13T08:30:40.510672Z",
     "iopub.status.busy": "2023-12-13T08:30:40.509911Z",
     "iopub.status.idle": "2023-12-13T08:30:40.890122Z",
     "shell.execute_reply": "2023-12-13T08:30:40.888794Z"
    },
    "papermill": {
     "duration": 0.412226,
     "end_time": "2023-12-13T08:30:40.893400",
     "exception": false,
     "start_time": "2023-12-13T08:30:40.481174",
     "status": "completed"
    },
    "tags": []
   },
   "outputs": [],
   "source": [
    "# Get scores on test data\n",
    "rf_preds = rf1.best_estimator_.predict(X_test)"
   ]
  },
  {
   "cell_type": "code",
   "execution_count": 40,
   "id": "f2f5752e",
   "metadata": {
    "execution": {
     "iopub.execute_input": "2023-12-13T08:30:40.953058Z",
     "iopub.status.busy": "2023-12-13T08:30:40.952641Z",
     "iopub.status.idle": "2023-12-13T08:30:40.960763Z",
     "shell.execute_reply": "2023-12-13T08:30:40.959400Z"
    },
    "papermill": {
     "duration": 0.041178,
     "end_time": "2023-12-13T08:30:40.963233",
     "exception": false,
     "start_time": "2023-12-13T08:30:40.922055",
     "status": "completed"
    },
    "tags": []
   },
   "outputs": [],
   "source": [
    "#Use get_test_scores() function you will use to output the scores of the model on the test data.\n",
    "def get_test_scores(model_name:str, preds, y_test_data):\n",
    "    '''\n",
    "    Generate a table of test scores.\n",
    "\n",
    "    In:\n",
    "    model_name (string): Your choice: how the model will be named in the output table\n",
    "    preds: numpy array of test predictions\n",
    "    y_test_data: numpy array of y_test data\n",
    "\n",
    "    Out:\n",
    "    table: a pandas df of precision, recall, f1, and accuracy scores for your model\n",
    "    '''\n",
    "    accuracy = accuracy_score(y_test_data, preds)\n",
    "    precision = precision_score(y_test_data, preds)\n",
    "    recall = recall_score(y_test_data, preds)\n",
    "    f1 = f1_score(y_test_data, preds)\n",
    "\n",
    "    table = pd.DataFrame({'model': [model_name],\n",
    "                        'precision': [precision],\n",
    "                        'recall': [recall],\n",
    "                        'F1': [f1],\n",
    "                        'accuracy': [accuracy]\n",
    "                        })\n",
    "\n",
    "    return table"
   ]
  },
  {
   "cell_type": "code",
   "execution_count": 41,
   "id": "c3e403b2",
   "metadata": {
    "execution": {
     "iopub.execute_input": "2023-12-13T08:30:41.021450Z",
     "iopub.status.busy": "2023-12-13T08:30:41.020643Z",
     "iopub.status.idle": "2023-12-13T08:30:41.047766Z",
     "shell.execute_reply": "2023-12-13T08:30:41.046403Z"
    },
    "papermill": {
     "duration": 0.059771,
     "end_time": "2023-12-13T08:30:41.050868",
     "exception": false,
     "start_time": "2023-12-13T08:30:40.991097",
     "status": "completed"
    },
    "tags": []
   },
   "outputs": [
    {
     "data": {
      "text/html": [
       "<div>\n",
       "<style scoped>\n",
       "    .dataframe tbody tr th:only-of-type {\n",
       "        vertical-align: middle;\n",
       "    }\n",
       "\n",
       "    .dataframe tbody tr th {\n",
       "        vertical-align: top;\n",
       "    }\n",
       "\n",
       "    .dataframe thead th {\n",
       "        text-align: right;\n",
       "    }\n",
       "</style>\n",
       "<table border=\"1\" class=\"dataframe\">\n",
       "  <thead>\n",
       "    <tr style=\"text-align: right;\">\n",
       "      <th></th>\n",
       "      <th>model</th>\n",
       "      <th>precision</th>\n",
       "      <th>recall</th>\n",
       "      <th>F1</th>\n",
       "      <th>accuracy</th>\n",
       "    </tr>\n",
       "  </thead>\n",
       "  <tbody>\n",
       "    <tr>\n",
       "      <th>0</th>\n",
       "      <td>RF CV</td>\n",
       "      <td>0.674919</td>\n",
       "      <td>0.757312</td>\n",
       "      <td>0.713601</td>\n",
       "      <td>0.680233</td>\n",
       "    </tr>\n",
       "    <tr>\n",
       "      <th>0</th>\n",
       "      <td>RF test</td>\n",
       "      <td>0.675297</td>\n",
       "      <td>0.779091</td>\n",
       "      <td>0.723490</td>\n",
       "      <td>0.686538</td>\n",
       "    </tr>\n",
       "  </tbody>\n",
       "</table>\n",
       "</div>"
      ],
      "text/plain": [
       "     model  precision    recall        F1  accuracy\n",
       "0    RF CV   0.674919  0.757312  0.713601  0.680233\n",
       "0  RF test   0.675297  0.779091  0.723490  0.686538"
      ]
     },
     "execution_count": 41,
     "metadata": {},
     "output_type": "execute_result"
    }
   ],
   "source": [
    "#Use the get_test_scores() function to generate the scores on the test data. Assign the results to rf_test_scores.\n",
    "#Call rf_test_scores to output the results.\n",
    "\n",
    "# Get scores on test data\n",
    "rf_test_scores = get_test_scores('RF test', rf_preds, y_test)\n",
    "results = pd.concat([results, rf_test_scores], axis=0)\n",
    "results"
   ]
  },
  {
   "cell_type": "markdown",
   "id": "6eec3a31",
   "metadata": {
    "papermill": {
     "duration": 0.029172,
     "end_time": "2023-12-13T08:30:41.108454",
     "exception": false,
     "start_time": "2023-12-13T08:30:41.079282",
     "status": "completed"
    },
    "tags": []
   },
   "source": [
    "**Question:** How do your test results compare to your validation results?\n",
    "\n",
    "**Response:** All scores increased by at most ~0.02.\n",
    "\n",
    "**XGBoost**\n",
    "Try to improve my scores using an XGBoost model.\n",
    "\n",
    "1. Instantiate the XGBoost classifier xgb and set objective='binary:logistic'. Also set the random state.\n",
    "2. Create a dictionary cv_params of the following hyperparameters and their corresponding values to tune:\n",
    "\n",
    "     * max_depth\n",
    "     * min_child_weight\n",
    "     * learning_rate\n",
    "     * n_estimators\n",
    "     \n",
    "3. Define a set scoring of scoring metrics for grid search to capture (precision, recall,    F1 score, and accuracy).\n",
    "4. Instantiate the GridSearchCV object xgb1. Pass to it as arguments:\n",
    "\n",
    "     * estimator=xgb\n",
    "     * param_grid=cv_params\n",
    "     * scoring=scoring\n",
    "     * cv: define the number of cross-validation folds you want (cv=_)\n",
    "     * refit: indicate which evaluation metric you want to use to select the model (refit='f1')"
   ]
  },
  {
   "cell_type": "code",
   "execution_count": 42,
   "id": "3fd5456d",
   "metadata": {
    "execution": {
     "iopub.execute_input": "2023-12-13T08:30:41.168595Z",
     "iopub.status.busy": "2023-12-13T08:30:41.168070Z",
     "iopub.status.idle": "2023-12-13T08:30:41.177435Z",
     "shell.execute_reply": "2023-12-13T08:30:41.175711Z"
    },
    "papermill": {
     "duration": 0.042938,
     "end_time": "2023-12-13T08:30:41.180789",
     "exception": false,
     "start_time": "2023-12-13T08:30:41.137851",
     "status": "completed"
    },
    "tags": []
   },
   "outputs": [],
   "source": [
    "# 1. Instantiate the XGBoost classifier\n",
    "xgb = XGBClassifier(objective='binary:logistic', random_state=0)\n",
    "\n",
    "# 2. Create a dictionary of hyperparameters to tune\n",
    "# Note that this example only contains 1 value for each parameter for simplicity,\n",
    "# but you should assign a dictionary with ranges of values\n",
    "cv_params = {'learning_rate': [0.1],\n",
    "             'max_depth': [8],\n",
    "             'min_child_weight': [2],\n",
    "             'n_estimators': [500]\n",
    "             }\n",
    "\n",
    "# 3. Define a set of scoring metrics to capture\n",
    "scoring = {'accuracy', 'precision', 'recall', 'f1'}\n",
    "\n",
    "# 4. Instantiate the GridSearchCV object\n",
    "xgb1 = GridSearchCV(xgb, cv_params, scoring=scoring, cv=4, refit='f1')"
   ]
  },
  {
   "cell_type": "code",
   "execution_count": 43,
   "id": "48ac25bb",
   "metadata": {
    "execution": {
     "iopub.execute_input": "2023-12-13T08:30:41.240627Z",
     "iopub.status.busy": "2023-12-13T08:30:41.240157Z",
     "iopub.status.idle": "2023-12-13T08:31:12.681989Z",
     "shell.execute_reply": "2023-12-13T08:31:12.680224Z"
    },
    "papermill": {
     "duration": 31.497597,
     "end_time": "2023-12-13T08:31:12.709076",
     "exception": false,
     "start_time": "2023-12-13T08:30:41.211479",
     "status": "completed"
    },
    "tags": []
   },
   "outputs": [
    {
     "name": "stdout",
     "output_type": "stream",
     "text": [
      "CPU times: user 1min 52s, sys: 467 ms, total: 1min 53s\n",
      "Wall time: 31.4 s\n"
     ]
    },
    {
     "data": {
      "text/html": [
       "<style>#sk-container-id-2 {color: black;background-color: white;}#sk-container-id-2 pre{padding: 0;}#sk-container-id-2 div.sk-toggleable {background-color: white;}#sk-container-id-2 label.sk-toggleable__label {cursor: pointer;display: block;width: 100%;margin-bottom: 0;padding: 0.3em;box-sizing: border-box;text-align: center;}#sk-container-id-2 label.sk-toggleable__label-arrow:before {content: \"▸\";float: left;margin-right: 0.25em;color: #696969;}#sk-container-id-2 label.sk-toggleable__label-arrow:hover:before {color: black;}#sk-container-id-2 div.sk-estimator:hover label.sk-toggleable__label-arrow:before {color: black;}#sk-container-id-2 div.sk-toggleable__content {max-height: 0;max-width: 0;overflow: hidden;text-align: left;background-color: #f0f8ff;}#sk-container-id-2 div.sk-toggleable__content pre {margin: 0.2em;color: black;border-radius: 0.25em;background-color: #f0f8ff;}#sk-container-id-2 input.sk-toggleable__control:checked~div.sk-toggleable__content {max-height: 200px;max-width: 100%;overflow: auto;}#sk-container-id-2 input.sk-toggleable__control:checked~label.sk-toggleable__label-arrow:before {content: \"▾\";}#sk-container-id-2 div.sk-estimator input.sk-toggleable__control:checked~label.sk-toggleable__label {background-color: #d4ebff;}#sk-container-id-2 div.sk-label input.sk-toggleable__control:checked~label.sk-toggleable__label {background-color: #d4ebff;}#sk-container-id-2 input.sk-hidden--visually {border: 0;clip: rect(1px 1px 1px 1px);clip: rect(1px, 1px, 1px, 1px);height: 1px;margin: -1px;overflow: hidden;padding: 0;position: absolute;width: 1px;}#sk-container-id-2 div.sk-estimator {font-family: monospace;background-color: #f0f8ff;border: 1px dotted black;border-radius: 0.25em;box-sizing: border-box;margin-bottom: 0.5em;}#sk-container-id-2 div.sk-estimator:hover {background-color: #d4ebff;}#sk-container-id-2 div.sk-parallel-item::after {content: \"\";width: 100%;border-bottom: 1px solid gray;flex-grow: 1;}#sk-container-id-2 div.sk-label:hover label.sk-toggleable__label {background-color: #d4ebff;}#sk-container-id-2 div.sk-serial::before {content: \"\";position: absolute;border-left: 1px solid gray;box-sizing: border-box;top: 0;bottom: 0;left: 50%;z-index: 0;}#sk-container-id-2 div.sk-serial {display: flex;flex-direction: column;align-items: center;background-color: white;padding-right: 0.2em;padding-left: 0.2em;position: relative;}#sk-container-id-2 div.sk-item {position: relative;z-index: 1;}#sk-container-id-2 div.sk-parallel {display: flex;align-items: stretch;justify-content: center;background-color: white;position: relative;}#sk-container-id-2 div.sk-item::before, #sk-container-id-2 div.sk-parallel-item::before {content: \"\";position: absolute;border-left: 1px solid gray;box-sizing: border-box;top: 0;bottom: 0;left: 50%;z-index: -1;}#sk-container-id-2 div.sk-parallel-item {display: flex;flex-direction: column;z-index: 1;position: relative;background-color: white;}#sk-container-id-2 div.sk-parallel-item:first-child::after {align-self: flex-end;width: 50%;}#sk-container-id-2 div.sk-parallel-item:last-child::after {align-self: flex-start;width: 50%;}#sk-container-id-2 div.sk-parallel-item:only-child::after {width: 0;}#sk-container-id-2 div.sk-dashed-wrapped {border: 1px dashed gray;margin: 0 0.4em 0.5em 0.4em;box-sizing: border-box;padding-bottom: 0.4em;background-color: white;}#sk-container-id-2 div.sk-label label {font-family: monospace;font-weight: bold;display: inline-block;line-height: 1.2em;}#sk-container-id-2 div.sk-label-container {text-align: center;}#sk-container-id-2 div.sk-container {/* jupyter's `normalize.less` sets `[hidden] { display: none; }` but bootstrap.min.css set `[hidden] { display: none !important; }` so we also need the `!important` here to be able to override the default hidden behavior on the sphinx rendered scikit-learn.org. See: https://github.com/scikit-learn/scikit-learn/issues/21755 */display: inline-block !important;position: relative;}#sk-container-id-2 div.sk-text-repr-fallback {display: none;}</style><div id=\"sk-container-id-2\" class=\"sk-top-container\"><div class=\"sk-text-repr-fallback\"><pre>GridSearchCV(cv=4,\n",
       "             estimator=XGBClassifier(base_score=None, booster=None,\n",
       "                                     callbacks=None, colsample_bylevel=None,\n",
       "                                     colsample_bynode=None,\n",
       "                                     colsample_bytree=None, device=None,\n",
       "                                     early_stopping_rounds=None,\n",
       "                                     enable_categorical=False, eval_metric=None,\n",
       "                                     feature_types=None, gamma=None,\n",
       "                                     grow_policy=None, importance_type=None,\n",
       "                                     interaction_constraints=None,\n",
       "                                     learning_rate=None,...\n",
       "                                     max_delta_step=None, max_depth=None,\n",
       "                                     max_leaves=None, min_child_weight=None,\n",
       "                                     missing=nan, monotone_constraints=None,\n",
       "                                     multi_strategy=None, n_estimators=None,\n",
       "                                     n_jobs=None, num_parallel_tree=None,\n",
       "                                     random_state=0, ...),\n",
       "             param_grid={&#x27;learning_rate&#x27;: [0.1], &#x27;max_depth&#x27;: [8],\n",
       "                         &#x27;min_child_weight&#x27;: [2], &#x27;n_estimators&#x27;: [500]},\n",
       "             refit=&#x27;f1&#x27;, scoring={&#x27;precision&#x27;, &#x27;recall&#x27;, &#x27;accuracy&#x27;, &#x27;f1&#x27;})</pre><b>In a Jupyter environment, please rerun this cell to show the HTML representation or trust the notebook. <br />On GitHub, the HTML representation is unable to render, please try loading this page with nbviewer.org.</b></div><div class=\"sk-container\" hidden><div class=\"sk-item sk-dashed-wrapped\"><div class=\"sk-label-container\"><div class=\"sk-label sk-toggleable\"><input class=\"sk-toggleable__control sk-hidden--visually\" id=\"sk-estimator-id-4\" type=\"checkbox\" ><label for=\"sk-estimator-id-4\" class=\"sk-toggleable__label sk-toggleable__label-arrow\">GridSearchCV</label><div class=\"sk-toggleable__content\"><pre>GridSearchCV(cv=4,\n",
       "             estimator=XGBClassifier(base_score=None, booster=None,\n",
       "                                     callbacks=None, colsample_bylevel=None,\n",
       "                                     colsample_bynode=None,\n",
       "                                     colsample_bytree=None, device=None,\n",
       "                                     early_stopping_rounds=None,\n",
       "                                     enable_categorical=False, eval_metric=None,\n",
       "                                     feature_types=None, gamma=None,\n",
       "                                     grow_policy=None, importance_type=None,\n",
       "                                     interaction_constraints=None,\n",
       "                                     learning_rate=None,...\n",
       "                                     max_delta_step=None, max_depth=None,\n",
       "                                     max_leaves=None, min_child_weight=None,\n",
       "                                     missing=nan, monotone_constraints=None,\n",
       "                                     multi_strategy=None, n_estimators=None,\n",
       "                                     n_jobs=None, num_parallel_tree=None,\n",
       "                                     random_state=0, ...),\n",
       "             param_grid={&#x27;learning_rate&#x27;: [0.1], &#x27;max_depth&#x27;: [8],\n",
       "                         &#x27;min_child_weight&#x27;: [2], &#x27;n_estimators&#x27;: [500]},\n",
       "             refit=&#x27;f1&#x27;, scoring={&#x27;precision&#x27;, &#x27;recall&#x27;, &#x27;accuracy&#x27;, &#x27;f1&#x27;})</pre></div></div></div><div class=\"sk-parallel\"><div class=\"sk-parallel-item\"><div class=\"sk-item\"><div class=\"sk-label-container\"><div class=\"sk-label sk-toggleable\"><input class=\"sk-toggleable__control sk-hidden--visually\" id=\"sk-estimator-id-5\" type=\"checkbox\" ><label for=\"sk-estimator-id-5\" class=\"sk-toggleable__label sk-toggleable__label-arrow\">estimator: XGBClassifier</label><div class=\"sk-toggleable__content\"><pre>XGBClassifier(base_score=None, booster=None, callbacks=None,\n",
       "              colsample_bylevel=None, colsample_bynode=None,\n",
       "              colsample_bytree=None, device=None, early_stopping_rounds=None,\n",
       "              enable_categorical=False, eval_metric=None, feature_types=None,\n",
       "              gamma=None, grow_policy=None, importance_type=None,\n",
       "              interaction_constraints=None, learning_rate=None, max_bin=None,\n",
       "              max_cat_threshold=None, max_cat_to_onehot=None,\n",
       "              max_delta_step=None, max_depth=None, max_leaves=None,\n",
       "              min_child_weight=None, missing=nan, monotone_constraints=None,\n",
       "              multi_strategy=None, n_estimators=None, n_jobs=None,\n",
       "              num_parallel_tree=None, random_state=0, ...)</pre></div></div></div><div class=\"sk-serial\"><div class=\"sk-item\"><div class=\"sk-estimator sk-toggleable\"><input class=\"sk-toggleable__control sk-hidden--visually\" id=\"sk-estimator-id-6\" type=\"checkbox\" ><label for=\"sk-estimator-id-6\" class=\"sk-toggleable__label sk-toggleable__label-arrow\">XGBClassifier</label><div class=\"sk-toggleable__content\"><pre>XGBClassifier(base_score=None, booster=None, callbacks=None,\n",
       "              colsample_bylevel=None, colsample_bynode=None,\n",
       "              colsample_bytree=None, device=None, early_stopping_rounds=None,\n",
       "              enable_categorical=False, eval_metric=None, feature_types=None,\n",
       "              gamma=None, grow_policy=None, importance_type=None,\n",
       "              interaction_constraints=None, learning_rate=None, max_bin=None,\n",
       "              max_cat_threshold=None, max_cat_to_onehot=None,\n",
       "              max_delta_step=None, max_depth=None, max_leaves=None,\n",
       "              min_child_weight=None, missing=nan, monotone_constraints=None,\n",
       "              multi_strategy=None, n_estimators=None, n_jobs=None,\n",
       "              num_parallel_tree=None, random_state=0, ...)</pre></div></div></div></div></div></div></div></div></div></div>"
      ],
      "text/plain": [
       "GridSearchCV(cv=4,\n",
       "             estimator=XGBClassifier(base_score=None, booster=None,\n",
       "                                     callbacks=None, colsample_bylevel=None,\n",
       "                                     colsample_bynode=None,\n",
       "                                     colsample_bytree=None, device=None,\n",
       "                                     early_stopping_rounds=None,\n",
       "                                     enable_categorical=False, eval_metric=None,\n",
       "                                     feature_types=None, gamma=None,\n",
       "                                     grow_policy=None, importance_type=None,\n",
       "                                     interaction_constraints=None,\n",
       "                                     learning_rate=None,...\n",
       "                                     max_delta_step=None, max_depth=None,\n",
       "                                     max_leaves=None, min_child_weight=None,\n",
       "                                     missing=nan, monotone_constraints=None,\n",
       "                                     multi_strategy=None, n_estimators=None,\n",
       "                                     n_jobs=None, num_parallel_tree=None,\n",
       "                                     random_state=0, ...),\n",
       "             param_grid={'learning_rate': [0.1], 'max_depth': [8],\n",
       "                         'min_child_weight': [2], 'n_estimators': [500]},\n",
       "             refit='f1', scoring={'precision', 'recall', 'accuracy', 'f1'})"
      ]
     },
     "execution_count": 43,
     "metadata": {},
     "output_type": "execute_result"
    }
   ],
   "source": [
    "%%time\n",
    "#Now fit the model to the X_train and y_train data\n",
    "xgb1.fit(X_train, y_train)"
   ]
  },
  {
   "cell_type": "code",
   "execution_count": 44,
   "id": "7c562faa",
   "metadata": {
    "execution": {
     "iopub.execute_input": "2023-12-13T08:31:12.766358Z",
     "iopub.status.busy": "2023-12-13T08:31:12.765932Z",
     "iopub.status.idle": "2023-12-13T08:31:12.774838Z",
     "shell.execute_reply": "2023-12-13T08:31:12.772983Z"
    },
    "papermill": {
     "duration": 0.042343,
     "end_time": "2023-12-13T08:31:12.778665",
     "exception": false,
     "start_time": "2023-12-13T08:31:12.736322",
     "status": "completed"
    },
    "tags": []
   },
   "outputs": [
    {
     "data": {
      "text/plain": [
       "0.6955124635485908"
      ]
     },
     "execution_count": 44,
     "metadata": {},
     "output_type": "execute_result"
    }
   ],
   "source": [
    "# Examine best score\n",
    "xgb1.best_score_"
   ]
  },
  {
   "cell_type": "code",
   "execution_count": 45,
   "id": "1dc65895",
   "metadata": {
    "execution": {
     "iopub.execute_input": "2023-12-13T08:31:12.836136Z",
     "iopub.status.busy": "2023-12-13T08:31:12.835723Z",
     "iopub.status.idle": "2023-12-13T08:31:12.842765Z",
     "shell.execute_reply": "2023-12-13T08:31:12.841643Z"
    },
    "papermill": {
     "duration": 0.03943,
     "end_time": "2023-12-13T08:31:12.845499",
     "exception": false,
     "start_time": "2023-12-13T08:31:12.806069",
     "status": "completed"
    },
    "tags": []
   },
   "outputs": [
    {
     "data": {
      "text/plain": [
       "{'learning_rate': 0.1,\n",
       " 'max_depth': 8,\n",
       " 'min_child_weight': 2,\n",
       " 'n_estimators': 500}"
      ]
     },
     "execution_count": 45,
     "metadata": {},
     "output_type": "execute_result"
    }
   ],
   "source": [
    "# Examine best parameters\n",
    "xgb1.best_params_"
   ]
  },
  {
   "cell_type": "code",
   "execution_count": 46,
   "id": "9a9175e5",
   "metadata": {
    "execution": {
     "iopub.execute_input": "2023-12-13T08:31:12.902532Z",
     "iopub.status.busy": "2023-12-13T08:31:12.901629Z",
     "iopub.status.idle": "2023-12-13T08:31:12.918872Z",
     "shell.execute_reply": "2023-12-13T08:31:12.917945Z"
    },
    "papermill": {
     "duration": 0.04845,
     "end_time": "2023-12-13T08:31:12.921448",
     "exception": false,
     "start_time": "2023-12-13T08:31:12.872998",
     "status": "completed"
    },
    "tags": []
   },
   "outputs": [
    {
     "data": {
      "text/html": [
       "<div>\n",
       "<style scoped>\n",
       "    .dataframe tbody tr th:only-of-type {\n",
       "        vertical-align: middle;\n",
       "    }\n",
       "\n",
       "    .dataframe tbody tr th {\n",
       "        vertical-align: top;\n",
       "    }\n",
       "\n",
       "    .dataframe thead th {\n",
       "        text-align: right;\n",
       "    }\n",
       "</style>\n",
       "<table border=\"1\" class=\"dataframe\">\n",
       "  <thead>\n",
       "    <tr style=\"text-align: right;\">\n",
       "      <th></th>\n",
       "      <th>model</th>\n",
       "      <th>precision</th>\n",
       "      <th>recall</th>\n",
       "      <th>F1</th>\n",
       "      <th>accuracy</th>\n",
       "    </tr>\n",
       "  </thead>\n",
       "  <tbody>\n",
       "    <tr>\n",
       "      <th>0</th>\n",
       "      <td>RF CV</td>\n",
       "      <td>0.674919</td>\n",
       "      <td>0.757312</td>\n",
       "      <td>0.713601</td>\n",
       "      <td>0.680233</td>\n",
       "    </tr>\n",
       "    <tr>\n",
       "      <th>0</th>\n",
       "      <td>RF test</td>\n",
       "      <td>0.675297</td>\n",
       "      <td>0.779091</td>\n",
       "      <td>0.723490</td>\n",
       "      <td>0.686538</td>\n",
       "    </tr>\n",
       "    <tr>\n",
       "      <th>0</th>\n",
       "      <td>XGB CV</td>\n",
       "      <td>0.669726</td>\n",
       "      <td>0.723553</td>\n",
       "      <td>0.695512</td>\n",
       "      <td>0.666557</td>\n",
       "    </tr>\n",
       "  </tbody>\n",
       "</table>\n",
       "</div>"
      ],
      "text/plain": [
       "     model  precision    recall        F1  accuracy\n",
       "0    RF CV   0.674919  0.757312  0.713601  0.680233\n",
       "0  RF test   0.675297  0.779091  0.723490  0.686538\n",
       "0   XGB CV   0.669726  0.723553  0.695512  0.666557"
      ]
     },
     "execution_count": 46,
     "metadata": {},
     "output_type": "execute_result"
    }
   ],
   "source": [
    "#XGB CV results\n",
    "# Call 'make_results()' on the GridSearch object\n",
    "xgb1_cv_results = make_results('XGB CV', xgb1, 'f1')\n",
    "results = pd.concat([results, xgb1_cv_results], axis=0)\n",
    "results"
   ]
  },
  {
   "cell_type": "markdown",
   "id": "53fd5bbb",
   "metadata": {
    "papermill": {
     "duration": 0.028207,
     "end_time": "2023-12-13T08:31:12.977832",
     "exception": false,
     "start_time": "2023-12-13T08:31:12.949625",
     "status": "completed"
    },
    "tags": []
   },
   "source": [
    "Use the model to predict on the test data. Assign the results to a variable called xgb_preds."
   ]
  },
  {
   "cell_type": "code",
   "execution_count": 47,
   "id": "40501414",
   "metadata": {
    "execution": {
     "iopub.execute_input": "2023-12-13T08:31:13.041598Z",
     "iopub.status.busy": "2023-12-13T08:31:13.041173Z",
     "iopub.status.idle": "2023-12-13T08:31:13.269941Z",
     "shell.execute_reply": "2023-12-13T08:31:13.268960Z"
    },
    "papermill": {
     "duration": 0.266541,
     "end_time": "2023-12-13T08:31:13.272883",
     "exception": false,
     "start_time": "2023-12-13T08:31:13.006342",
     "status": "completed"
    },
    "tags": []
   },
   "outputs": [],
   "source": [
    "# Get scores on test data\n",
    "xgb_preds = xgb1.best_estimator_.predict(X_test)"
   ]
  },
  {
   "cell_type": "markdown",
   "id": "e525ef98",
   "metadata": {
    "papermill": {
     "duration": 0.030889,
     "end_time": "2023-12-13T08:31:13.334850",
     "exception": false,
     "start_time": "2023-12-13T08:31:13.303961",
     "status": "completed"
    },
    "tags": []
   },
   "source": [
    "**XGB test results¶**\n",
    "\n",
    "Use the get_test_scores() function to generate the scores on the test data. Assign the results to xgb_test_scores.\n",
    "Call xgb_test_scores to output the results."
   ]
  },
  {
   "cell_type": "code",
   "execution_count": 48,
   "id": "b6f277d7",
   "metadata": {
    "execution": {
     "iopub.execute_input": "2023-12-13T08:31:13.392854Z",
     "iopub.status.busy": "2023-12-13T08:31:13.392393Z",
     "iopub.status.idle": "2023-12-13T08:31:13.423256Z",
     "shell.execute_reply": "2023-12-13T08:31:13.422257Z"
    },
    "papermill": {
     "duration": 0.063184,
     "end_time": "2023-12-13T08:31:13.426178",
     "exception": false,
     "start_time": "2023-12-13T08:31:13.362994",
     "status": "completed"
    },
    "tags": []
   },
   "outputs": [
    {
     "data": {
      "text/html": [
       "<div>\n",
       "<style scoped>\n",
       "    .dataframe tbody tr th:only-of-type {\n",
       "        vertical-align: middle;\n",
       "    }\n",
       "\n",
       "    .dataframe tbody tr th {\n",
       "        vertical-align: top;\n",
       "    }\n",
       "\n",
       "    .dataframe thead th {\n",
       "        text-align: right;\n",
       "    }\n",
       "</style>\n",
       "<table border=\"1\" class=\"dataframe\">\n",
       "  <thead>\n",
       "    <tr style=\"text-align: right;\">\n",
       "      <th></th>\n",
       "      <th>model</th>\n",
       "      <th>precision</th>\n",
       "      <th>recall</th>\n",
       "      <th>F1</th>\n",
       "      <th>accuracy</th>\n",
       "    </tr>\n",
       "  </thead>\n",
       "  <tbody>\n",
       "    <tr>\n",
       "      <th>0</th>\n",
       "      <td>RF CV</td>\n",
       "      <td>0.674919</td>\n",
       "      <td>0.757312</td>\n",
       "      <td>0.713601</td>\n",
       "      <td>0.680233</td>\n",
       "    </tr>\n",
       "    <tr>\n",
       "      <th>0</th>\n",
       "      <td>RF test</td>\n",
       "      <td>0.675297</td>\n",
       "      <td>0.779091</td>\n",
       "      <td>0.723490</td>\n",
       "      <td>0.686538</td>\n",
       "    </tr>\n",
       "    <tr>\n",
       "      <th>0</th>\n",
       "      <td>XGB CV</td>\n",
       "      <td>0.669726</td>\n",
       "      <td>0.723553</td>\n",
       "      <td>0.695512</td>\n",
       "      <td>0.666557</td>\n",
       "    </tr>\n",
       "    <tr>\n",
       "      <th>0</th>\n",
       "      <td>XGB test</td>\n",
       "      <td>0.677219</td>\n",
       "      <td>0.745488</td>\n",
       "      <td>0.709716</td>\n",
       "      <td>0.679004</td>\n",
       "    </tr>\n",
       "  </tbody>\n",
       "</table>\n",
       "</div>"
      ],
      "text/plain": [
       "      model  precision    recall        F1  accuracy\n",
       "0     RF CV   0.674919  0.757312  0.713601  0.680233\n",
       "0   RF test   0.675297  0.779091  0.723490  0.686538\n",
       "0    XGB CV   0.669726  0.723553  0.695512  0.666557\n",
       "0  XGB test   0.677219  0.745488  0.709716  0.679004"
      ]
     },
     "execution_count": 48,
     "metadata": {},
     "output_type": "execute_result"
    }
   ],
   "source": [
    "# Get scores on test data\n",
    "xgb_test_scores = get_test_scores('XGB test', xgb_preds, y_test)\n",
    "results = pd.concat([results, xgb_test_scores], axis=0)\n",
    "results"
   ]
  },
  {
   "cell_type": "markdown",
   "id": "332338de",
   "metadata": {
    "papermill": {
     "duration": 0.03277,
     "end_time": "2023-12-13T08:31:13.488131",
     "exception": false,
     "start_time": "2023-12-13T08:31:13.455361",
     "status": "completed"
    },
    "tags": []
   },
   "source": [
    "**The F1 score** is ~0.01 lower than the random forest model. Both models are acceptable, but the random forest model is the champion.\n",
    "\n",
    "Plot a confusion matrix of the champion model's predictions on the test data."
   ]
  },
  {
   "cell_type": "code",
   "execution_count": 49,
   "id": "9f80d151",
   "metadata": {
    "execution": {
     "iopub.execute_input": "2023-12-13T08:31:13.551707Z",
     "iopub.status.busy": "2023-12-13T08:31:13.550861Z",
     "iopub.status.idle": "2023-12-13T08:31:13.956545Z",
     "shell.execute_reply": "2023-12-13T08:31:13.955262Z"
    },
    "papermill": {
     "duration": 0.43969,
     "end_time": "2023-12-13T08:31:13.959257",
     "exception": false,
     "start_time": "2023-12-13T08:31:13.519567",
     "status": "completed"
    },
    "tags": []
   },
   "outputs": [
    {
     "data": {
      "image/png": "[encoded data removed]",
      "text/plain": [
       "<Figure size 640x480 with 2 Axes>"
      ]
     },
     "metadata": {},
     "output_type": "display_data"
    }
   ],
   "source": [
    "# Generate array of values for confusion matrix\n",
    "cm = confusion_matrix(y_test, rf_preds, labels=rf1.classes_)\n",
    "\n",
    "# Plot confusion matrix\n",
    "disp = ConfusionMatrixDisplay(confusion_matrix=cm,\n",
    "                             display_labels=rf1.classes_, \n",
    "                             )\n",
    "disp.plot(values_format='');"
   ]
  },
  {
   "cell_type": "markdown",
   "id": "c5f281f4",
   "metadata": {
    "papermill": {
     "duration": 0.028096,
     "end_time": "2023-12-13T08:31:14.018446",
     "exception": false,
     "start_time": "2023-12-13T08:31:13.990350",
     "status": "completed"
    },
    "tags": []
   },
   "source": [
    "The model is almost twice as likely to predict a false positive than it is to predict a false negative. Therefore, type I errors are more common. This is less desirable, because it's better for a driver to be pleasantly surprised by a generous tip when they weren't expecting one than to be disappointed by a low tip when they were expecting a generous one. However, the overall performance of this model is satisfactory.\n",
    "\n",
    "**Feature importance**\n",
    "\n",
    "Use the feature_importances_ attribute of the best estimator object to inspect the features of my final model. Then sort them and plot the most important ones."
   ]
  },
  {
   "cell_type": "code",
   "execution_count": 50,
   "id": "4f5b1694",
   "metadata": {
    "execution": {
     "iopub.execute_input": "2023-12-13T08:31:14.079610Z",
     "iopub.status.busy": "2023-12-13T08:31:14.079096Z",
     "iopub.status.idle": "2023-12-13T08:31:14.766700Z",
     "shell.execute_reply": "2023-12-13T08:31:14.765358Z"
    },
    "papermill": {
     "duration": 0.723587,
     "end_time": "2023-12-13T08:31:14.770534",
     "exception": false,
     "start_time": "2023-12-13T08:31:14.046947",
     "status": "completed"
    },
    "tags": []
   },
   "outputs": [
    {
     "data": {
      "image/png": "[encoded data removed]",
      "text/plain": [
       "<Figure size 800x500 with 1 Axes>"
      ]
     },
     "metadata": {},
     "output_type": "display_data"
    }
   ],
   "source": [
    "importances = rf1.best_estimator_.feature_importances_\n",
    "rf_importances = pd.Series(importances, index=X_test.columns)\n",
    "rf_importances = rf_importances.sort_values(ascending=False)[:15]\n",
    "\n",
    "fig, ax = plt.subplots(figsize=(8,5))\n",
    "rf_importances.plot.bar(ax=ax)\n",
    "ax.set_title('Feature importances')\n",
    "ax.set_ylabel('Mean decrease in impurity')\n",
    "fig.tight_layout();"
   ]
  },
  {
   "cell_type": "markdown",
   "id": "46f8b931",
   "metadata": {
    "papermill": {
     "duration": 0.035809,
     "end_time": "2023-12-13T08:31:14.841013",
     "exception": false,
     "start_time": "2023-12-13T08:31:14.805204",
     "status": "completed"
    },
    "tags": []
   },
   "source": [
    "## **Execute**\n",
    "\n",
    "# **Task 4. Conclusion**"
   ]
  },
  {
   "cell_type": "markdown",
   "id": "885f7cc0",
   "metadata": {
    "papermill": {
     "duration": 0.044755,
     "end_time": "2023-12-13T08:31:14.919398",
     "exception": false,
     "start_time": "2023-12-13T08:31:14.874643",
     "status": "completed"
    },
    "tags": []
   },
   "source": [
    "In this step, use the results of the models above to formulate a conclusion. Consider the following questions:\n",
    "\n",
    "**1. Would you recommend using this model? Why or why not?**\n",
    "\n",
    "Yes, this is model performs acceptably. Its F1 score was 0.7235 and it had an overall accuracy of 0.6865. It correctly identified ~78% of the actual responders in the test set, which is 48% better than a random guess. It may be worthwhile to test the model with a select group of taxi drivers to get feedback.\n",
    "\n",
    "**2. What was your highest scoring model doing? Can you explain how it was making predictions?**\n",
    "\n",
    "Unfortunately, random forest is not the most transparent machine learning algorithm. We know that VendorID, predicted_fare, mean_duration, and mean_distance are the most important features, but we don't know how they influence tipping. This would require further exploration. It is interesting that VendorID is the most predictive feature. This seems to indicate that one of the two vendors tends to attract more generous customers. It may be worth performing statistical tests on the different vendors to examine this further.\n",
    "\n",
    "**3. Are there new features that you can engineer that might improve model performance?**\n",
    "\n",
    "There are almost always additional features that can be engineered, but hopefully the most obvious ones were generated during the first round of modeling. In our case, we could try creating three new columns that indicate if the trip distance is short, medium, or far. We could also engineer a column that gives a ratio that represents (the amount of money from the fare amount to the nearest higher multiple of $5) / fare amount. For example, if the fare were $12, the value in this column would be 0.25, because $12 to the nearest higher multiple of $5 ($15) is $3, and $3 divided by $12 is 0.25. The intuition for this feature is that people might be likely to simply round up their tip, so journeys with fares with values just under a multiple of $5 may have lower tip percentages than those with fare values just over a multiple of $5. We could also do the same thing for fares to the nearest $10.\n",
    "\n",
    "𝑟𝑜𝑢𝑛𝑑5_𝑟𝑎𝑡𝑖𝑜 = 𝑎𝑚𝑜𝑢𝑛𝑡 𝑜𝑓 𝑚𝑜𝑛𝑒𝑦 𝑓𝑟𝑜𝑚 𝑡ℎ𝑒 𝑓𝑎𝑟𝑒 𝑎𝑚𝑜𝑢𝑛𝑡 𝑡𝑜 𝑡ℎ𝑒 𝑛𝑒𝑎𝑟𝑒𝑠𝑡 ℎ𝑖𝑔ℎ𝑒𝑟 𝑚𝑢𝑙𝑡𝑖𝑝𝑙𝑒 𝑜𝑓 $5/𝑓𝑎𝑟𝑒 𝑎𝑚𝑜𝑢𝑛𝑡\n",
    " \n",
    "**4. What features would you want to have that would likely improve the performance of your model?**\n",
    "\n",
    "It would probably be very helpful to have past tipping behavior for each customer. It would also be valuable to have accurate tip values for customers who pay with cash. It would be helpful to have a lot more data. With enough data, we could create a unique feature for each pickup/dropoff combination."
   ]
  },
  {
   "cell_type": "code",
   "execution_count": null,
   "id": "c488d8d5",
   "metadata": {
    "papermill": {
     "duration": 0.033837,
     "end_time": "2023-12-13T08:31:14.993210",
     "exception": false,
     "start_time": "2023-12-13T08:31:14.959373",
     "status": "completed"
    },
    "tags": []
   },
   "outputs": [],
   "source": []
  }
 ],
 "metadata": {
  "kaggle": {
   "accelerator": "none",
   "dataSources": [
    {
     "datasetId": 4153617,
     "sourceId": 7185083,
     "sourceType": "datasetVersion"
    }
   ],
   "dockerImageVersionId": 30615,
   "isGpuEnabled": false,
   "isInternetEnabled": true,
   "language": "python",
   "sourceType": "notebook"
  },
  "kernelspec": {
   "display_name": "Python 3",
   "language": "python",
   "name": "python3"
  },
  "language_info": {
   "codemirror_mode": {
    "name": "ipython",
    "version": 3
   },
   "file_extension": ".py",
   "mimetype": "text/x-python",
   "name": "python",
   "nbconvert_exporter": "python",
   "pygments_lexer": "ipython3",
   "version": "3.10.12"
  },
  "papermill": {
   "default_parameters": {},
   "duration": 400.147553,
   "end_time": "2023-12-13T08:31:15.954929",
   "environment_variables": {},
   "exception": null,
   "input_path": "__notebook__.ipynb",
   "output_path": "__notebook__.ipynb",
   "parameters": {},
   "start_time": "2023-12-13T08:24:35.807376",
   "version": "2.4.0"
  }
 },
 "nbformat": 4,
 "nbformat_minor": 5
}
